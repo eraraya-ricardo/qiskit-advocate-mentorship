{
  "nbformat": 4,
  "nbformat_minor": 0,
  "metadata": {
    "kernelspec": {
      "language": "python",
      "display_name": "Python 3",
      "name": "python3"
    },
    "language_info": {
      "pygments_lexer": "ipython3",
      "nbconvert_exporter": "python",
      "version": "3.6.4",
      "file_extension": ".py",
      "codemirror_mode": {
        "name": "ipython",
        "version": 3
      },
      "name": "python",
      "mimetype": "text/x-python"
    },
    "colab": {
      "name": "QGRNN.ipynb",
      "provenance": [],
      "collapsed_sections": []
    }
  },
  "cells": [
    {
      "cell_type": "code",
      "metadata": {
        "trusted": true,
        "id": "rGU9JeUvoHrQ"
      },
      "source": [
        "!pip install qiskit\n",
        "!pip install pylatexenc--upgrade\n",
        "!pip install retworkx\n",
        "#!pip install numpy --upgrade\n",
        "from IPython.display import clear_output\n",
        "clear_output()"
      ],
      "execution_count": null,
      "outputs": []
    },
    {
      "cell_type": "code",
      "metadata": {
        "trusted": true,
        "id": "qy1KAihYoHrX"
      },
      "source": [
        "from qiskit import QuantumRegister, ClassicalRegister, QuantumCircuit, Aer, transpile\n",
        "from qiskit.circuit.library import ZGate, XGate\n",
        "from qiskit.extensions import UnitaryGate\n",
        "from qiskit.aqua.algorithms import VQE, NumPyEigensolver\n",
        "from qiskit.aqua.operators import WeightedPauliOperator, MatrixOperator, op_converter\n",
        "from qiskit.aqua.components.optimizers import COBYLA, SPSA, SLSQP\n",
        "#from qiskit.quantum_info.operators import Operator\n",
        "\n",
        "import numpy as np\n",
        "import scipy\n",
        "import networkx as nx\n",
        "from matplotlib import pyplot as plt\n",
        "import copy"
      ],
      "execution_count": 31,
      "outputs": []
    },
    {
      "cell_type": "markdown",
      "metadata": {
        "id": "plM-PvNuoqYl"
      },
      "source": [
        "# Generating the Graph"
      ]
    },
    {
      "cell_type": "markdown",
      "metadata": {
        "id": "v90iJ-V0yF1T"
      },
      "source": [
        "Let's generate a 4-node graph with randomized true weights and bias. Since each node is represented as a single qubit, we need 4 qubits for this graph."
      ]
    },
    {
      "cell_type": "code",
      "metadata": {
        "trusted": true,
        "id": "IeB0BT4moHrY"
      },
      "source": [
        "# Define the number of qubits\n",
        "\n",
        "num_qubit = 4\n",
        "qubits = range(num_qubit)"
      ],
      "execution_count": 2,
      "outputs": []
    },
    {
      "cell_type": "code",
      "metadata": {
        "trusted": true,
        "colab": {
          "base_uri": "https://localhost:8080/",
          "height": 337
        },
        "id": "6xG91azDoHrZ",
        "outputId": "83b16bed-7176-420e-8f07-a5d5fc8e7cc5"
      },
      "source": [
        "# Generating the graph\n",
        "\n",
        "ising_graph = nx.star_graph(num_qubit-1)\n",
        "print(\"Edges:\", ising_graph.edges)\n",
        "nx.draw(ising_graph)"
      ],
      "execution_count": 3,
      "outputs": [
        {
          "output_type": "stream",
          "text": [
            "Edges: [(0, 1), (0, 2), (0, 3)]\n"
          ],
          "name": "stdout"
        },
        {
          "output_type": "display_data",
          "data": {
            "image/png": "[encoded data removed]",
            "text/plain": [
              "<Figure size 432x288 with 1 Axes>"
            ]
          },
          "metadata": {
            "tags": []
          }
        }
      ]
    },
    {
      "cell_type": "code",
      "metadata": {
        "trusted": true,
        "id": "5tZi4VH_oHrZ"
      },
      "source": [
        "# Set the random seed\n",
        "\n",
        "rng = np.random.default_rng(seed=2021)"
      ],
      "execution_count": 4,
      "outputs": []
    },
    {
      "cell_type": "code",
      "metadata": {
        "trusted": true,
        "colab": {
          "base_uri": "https://localhost:8080/"
        },
        "id": "YNen1FVfoHra",
        "outputId": "df604c94-77fc-4029-803c-dcb3ad5bf9da"
      },
      "source": [
        "# Initialize the true weights and bias\n",
        "\n",
        "true_weights = rng.random(size=len(ising_graph.edges)) - 0.5\n",
        "true_bias = rng.random(size=num_qubit) - 0.5\n",
        "\n",
        "print(\"True Weights:\", true_weights)\n",
        "print(\"True Bias\", true_bias)"
      ],
      "execution_count": 5,
      "outputs": [
        {
          "output_type": "stream",
          "text": [
            "True Weights: [0.25694783 0.44138187 0.09246304]\n",
            "True Bias [-0.18115829  0.12607384 -0.46448613 -0.24787304]\n"
          ],
          "name": "stdout"
        }
      ]
    },
    {
      "cell_type": "markdown",
      "metadata": {
        "id": "fh3nxdBxq4NC"
      },
      "source": [
        "# Creating the Hamiltonian Matrix"
      ]
    },
    {
      "cell_type": "markdown",
      "metadata": {
        "id": "v5aZgE0zyCLF"
      },
      "source": [
        "From the generated graph, we then construct the ising model Hamiltonian matrix."
      ]
    },
    {
      "cell_type": "code",
      "metadata": {
        "trusted": true,
        "id": "Ovpr87sWoHrb"
      },
      "source": [
        "def create_hamiltonian_matrix(n_qubits, graph, weights, bias):\n",
        "\n",
        "    full_matrix = np.zeros((2 ** n_qubits, 2 ** n_qubits))\n",
        "\n",
        "    # Creates the interaction component of the Hamiltonian\n",
        "    for i, edge in enumerate(graph.edges):\n",
        "        interaction_term = 1\n",
        "        for qubit in range(0, n_qubits):\n",
        "            if qubit in edge:\n",
        "                interaction_term = np.kron(interaction_term, np.array(ZGate().to_matrix(), dtype=float))\n",
        "            else:\n",
        "                interaction_term = np.kron(interaction_term, np.identity(2))\n",
        "        full_matrix += weights[i] * interaction_term\n",
        "\n",
        "    # Creates the bias components of the matrix\n",
        "    for i in range(0, n_qubits):\n",
        "        z_term = x_term = 1\n",
        "        for j in range(0, n_qubits):\n",
        "            if j == i:\n",
        "                z_term = np.kron(z_term, np.array(ZGate().to_matrix(), dtype=float))\n",
        "                x_term = np.kron(x_term, np.array(XGate().to_matrix(), dtype=float))\n",
        "            else:\n",
        "                z_term = np.kron(z_term, np.identity(2))\n",
        "                x_term = np.kron(x_term, np.identity(2))\n",
        "        full_matrix += bias[i] * z_term + x_term\n",
        "\n",
        "    return full_matrix"
      ],
      "execution_count": 6,
      "outputs": []
    },
    {
      "cell_type": "code",
      "metadata": {
        "colab": {
          "base_uri": "https://localhost:8080/",
          "height": 343
        },
        "id": "dKyYWgCPtZc_",
        "outputId": "9fd76e00-2188-450f-e1fb-be94c50f4440"
      },
      "source": [
        "# Prints a visual representation of the Hamiltonian matrix\n",
        "H_matrix = create_hamiltonian_matrix(num_qubit, ising_graph, true_weights, true_bias)\n",
        "\n",
        "print(\"Hamiltonian Matrix Visualization\")\n",
        "plt.matshow(H_matrix, cmap=\"cool\")\n",
        "plt.colorbar()\n",
        "plt.show()"
      ],
      "execution_count": 7,
      "outputs": [
        {
          "output_type": "stream",
          "text": [
            "/usr/local/lib/python3.7/dist-packages/ipykernel_launcher.py:10: ComplexWarning: Casting complex values to real discards the imaginary part\n",
            "  # Remove the CWD from sys.path while we load stuff.\n",
            "/usr/local/lib/python3.7/dist-packages/ipykernel_launcher.py:20: ComplexWarning: Casting complex values to real discards the imaginary part\n",
            "/usr/local/lib/python3.7/dist-packages/ipykernel_launcher.py:21: ComplexWarning: Casting complex values to real discards the imaginary part\n"
          ],
          "name": "stderr"
        },
        {
          "output_type": "stream",
          "text": [
            "Hamiltonian Matrix Visualization\n"
          ],
          "name": "stdout"
        },
        {
          "output_type": "display_data",
          "data": {
            "image/png": "[encoded data removed]",
            "text/plain": [
              "<Figure size 288x288 with 2 Axes>"
            ]
          },
          "metadata": {
            "tags": [],
            "needs_background": "light"
          }
        }
      ]
    },
    {
      "cell_type": "markdown",
      "metadata": {
        "id": "QgzuHF2dwkxB"
      },
      "source": [
        "Let's calculate the true ground state energy (the lowest eigenvalue) of this Hamiltonian matrix."
      ]
    },
    {
      "cell_type": "code",
      "metadata": {
        "colab": {
          "base_uri": "https://localhost:8080/"
        },
        "id": "UAjKKU5htsWu",
        "outputId": "c60a477d-0371-44b6-ff85-5c10881ce925"
      },
      "source": [
        "ground_state_energy = np.real_if_close(min(np.linalg.eig(H_matrix)[0]))\n",
        "print(\"Ground State Energy:\", ground_state_energy)"
      ],
      "execution_count": 8,
      "outputs": [
        {
          "output_type": "stream",
          "text": [
            "Ground State Energy: -4.197624303542111\n"
          ],
          "name": "stdout"
        }
      ]
    },
    {
      "cell_type": "markdown",
      "metadata": {
        "id": "P-IA2A-vxNkc"
      },
      "source": [
        "# Preparing the Quantum Data with VQE"
      ]
    },
    {
      "cell_type": "markdown",
      "metadata": {
        "id": "E-pgp8BayIhR"
      },
      "source": [
        "To train the QGRNN, we have to prepare the quantum state as the data. This low energy quantum state can be obtained by using VQE."
      ]
    },
    {
      "cell_type": "markdown",
      "metadata": {
        "id": "dxibZTiqOfR8"
      },
      "source": [
        "Convert the Hamiltonian matrix into quantum operator."
      ]
    },
    {
      "cell_type": "code",
      "metadata": {
        "trusted": true,
        "colab": {
          "base_uri": "https://localhost:8080/"
        },
        "id": "gFQrbdtDoHrb",
        "outputId": "9b447309-66e3-40c8-e578-f7e829507f3e"
      },
      "source": [
        "H_operator = op_converter.to_weighted_pauli_operator(MatrixOperator(H_matrix))"
      ],
      "execution_count": 9,
      "outputs": [
        {
          "output_type": "stream",
          "text": [
            "/usr/local/lib/python3.7/dist-packages/ipykernel_launcher.py:1: DeprecationWarning: The package qiskit.aqua.operators is deprecated. It was moved/refactored to qiskit.opflow (pip install qiskit-terra). For more information see <https://github.com/Qiskit/qiskit-aqua/blob/master/README.md#migration-guide>\n",
            "  \"\"\"Entry point for launching an IPython kernel.\n",
            "/usr/local/lib/python3.7/dist-packages/qiskit/aqua/operators/legacy/op_converter.py:90: DeprecationWarning: The variable qiskit.aqua.aqua_globals is deprecated. It was moved/refactored to qiskit.utils.algorithm_globals (pip install qiskit-terra). For more information see <https://github.com/Qiskit/qiskit-aqua/blob/master/README.md#migration-guide>\n",
            "  num_processes=aqua_globals.num_processes)\n"
          ],
          "name": "stderr"
        }
      ]
    },
    {
      "cell_type": "markdown",
      "metadata": {
        "id": "xhWxPofGPxWL"
      },
      "source": [
        "To make sure, let's check this operator minimum eigenvalue. It should be the same as the minimum eigenvalue of the Hamiltonian matrix."
      ]
    },
    {
      "cell_type": "code",
      "metadata": {
        "trusted": true,
        "colab": {
          "base_uri": "https://localhost:8080/"
        },
        "id": "4trVANjnoHrc",
        "outputId": "28f517e3-ac83-43fa-edef-a2052ea3b50e"
      },
      "source": [
        "eig_vals = NumPyEigensolver(H_operator).run()\n",
        "print(\"Minimum Eigenvalue:\", np.real_if_close(min(eig_vals['eigenvalues'])))"
      ],
      "execution_count": 30,
      "outputs": [
        {
          "output_type": "stream",
          "text": [
            "Minimum Eigenvalue: -4.197624303542115\n"
          ],
          "name": "stdout"
        }
      ]
    },
    {
      "cell_type": "markdown",
      "metadata": {
        "id": "8S1Kg4GOR_3L"
      },
      "source": [
        "Now, let's run the VQE with SLSQP optimizer.<br>\n",
        "Remember that we want the low energy state but NOT the gound state. We make the number of iteration small to prevent the VQE from reaching the ground state. The eigenvalue from VQE should be a little bit higher than the ground state energy."
      ]
    },
    {
      "cell_type": "code",
      "metadata": {
        "trusted": true,
        "id": "1tLZQ36BoHrc",
        "colab": {
          "base_uri": "https://localhost:8080/"
        },
        "outputId": "2ade732c-85e7-47c6-c5e6-14c31ee4934a"
      },
      "source": [
        "opt = SLSQP(maxiter=5)\n",
        "\n",
        "backend = Aer.get_backend(\"statevector_simulator\")\n",
        "\n",
        "vqe=VQE(operator=H_operator, optimizer=opt)\n",
        "vqe_result=vqe.run(backend)\n",
        "\n",
        "print(\"VQE Eigenvalue:\", np.real_if_close(vqe_result['eigenvalue']))"
      ],
      "execution_count": 36,
      "outputs": [
        {
          "output_type": "stream",
          "text": [
            "VQE Eigenvalue: -4.112441594328477\n"
          ],
          "name": "stdout"
        }
      ]
    },
    {
      "cell_type": "markdown",
      "metadata": {
        "id": "k7YYpAXyTXEL"
      },
      "source": [
        "By using the optimized VQE circuit, we can now obtain the low energy quantum state."
      ]
    },
    {
      "cell_type": "code",
      "metadata": {
        "trusted": true,
        "id": "tSorHrK3oHre",
        "colab": {
          "base_uri": "https://localhost:8080/"
        },
        "outputId": "245bd7c9-b18f-49da-83f5-a595e7d1bcd0"
      },
      "source": [
        "#vqe.get_optimal_circuit().draw()\n",
        "low_energy_state = vqe.get_optimal_vector()\n",
        "print(\"Low Energy State:\", low_energy_state)"
      ],
      "execution_count": 37,
      "outputs": [
        {
          "output_type": "stream",
          "text": [
            "Low Energy State: [-0.32086065+0.j  0.20076652+0.j  0.16915614+0.j -0.12905635+0.j\n",
            "  0.39873232+0.j -0.30236909+0.j -0.22083949+0.j  0.15331484+0.j\n",
            "  0.33739082+0.j -0.29700463+0.j -0.17093072+0.j  0.15162227+0.j\n",
            " -0.30793473+0.j  0.31081197+0.j  0.1576565 +0.j -0.13508318+0.j]\n"
          ],
          "name": "stdout"
        }
      ]
    },
    {
      "cell_type": "code",
      "metadata": {
        "trusted": true,
        "id": "ZjJjbFG-oHrf",
        "colab": {
          "base_uri": "https://localhost:8080/"
        },
        "outputId": "395ec4aa-671f-48a1-918e-4fe3bd6af1f5"
      },
      "source": [
        "# Sanity check, will be deleted in the final notebook\n",
        "\n",
        "print(np.real_if_close(np.conj(vqe.get_optimal_vector())@H_matrix@vqe.get_optimal_vector()))\n",
        "print(np.conj(vqe.get_optimal_vector())@vqe.get_optimal_vector())\n",
        "\n",
        "import math\n",
        "math.isclose(np.sum(np.absolute(np.kron(low_energy_state,low_energy_state)) ** 2), 1.0,\n",
        "                                abs_tol=1e-11)"
      ],
      "execution_count": 47,
      "outputs": [
        {
          "output_type": "stream",
          "text": [
            "-4.112441594328477\n",
            "(1.0000000000000002+0j)\n"
          ],
          "name": "stdout"
        },
        {
          "output_type": "execute_result",
          "data": {
            "text/plain": [
              "True"
            ]
          },
          "metadata": {
            "tags": []
          },
          "execution_count": 47
        }
      ]
    },
    {
      "cell_type": "markdown",
      "metadata": {
        "id": "07n4tJsvhyNF"
      },
      "source": [
        "We also need the time-evolved low energy states from the initial low energy state that we obtained from VQE previously. This can be done by converting the Hamiltonian matrix into unitary operator."
      ]
    },
    {
      "cell_type": "code",
      "metadata": {
        "id": "bYqPZ96Bhyzl"
      },
      "source": [
        "def state_evolve(circuit, hamiltonian, qubits, time):\n",
        "\n",
        "    U = scipy.linalg.expm(-1j * hamiltonian * time)\n",
        "    U_gate = UnitaryGate(U, label='evolved_unitary_'+str(time))\n",
        "    circuit.unitary(U_gate, qubits)\n",
        "    \n",
        "    return circuit"
      ],
      "execution_count": 46,
      "outputs": []
    },
    {
      "cell_type": "markdown",
      "metadata": {
        "id": "rgER30f0VEjC"
      },
      "source": [
        "# Preparing the QGRNN Circuit"
      ]
    },
    {
      "cell_type": "markdown",
      "metadata": {
        "id": "5GVEuz5DhYbd"
      },
      "source": [
        "The first component that we need is the QGRNN layer. We can construct an ansatz that consists of RX, RZ, and RZZ gate with random initial parameters since the Hamiltonian in this example only consists of X, Z, and ZZ gate."
      ]
    },
    {
      "cell_type": "code",
      "metadata": {
        "id": "0nGzClCTgjS_"
      },
      "source": [
        "def qgrnn_layer(circuit, weights, bias, qubits, graph, trotter_step):\n",
        "\n",
        "    # Applies a layer of RZZ gates (based on a graph)\n",
        "    for i, edge in enumerate(graph.edges):\n",
        "        circuit.rzz(2 * weights[i] * trotter_step, edge[0], edge[1])\n",
        "\n",
        "    # Applies a layer of RZ gates\n",
        "    for i, qubit in enumerate(qubits):\n",
        "        circuit.rz(2 * bias[i] * trotter_step, qubit)\n",
        "\n",
        "    # Applies a layer of RX gates\n",
        "    for qubit in qubits:\n",
        "        circuit.rx(2 * trotter_step, qubit)\n",
        "        \n",
        "    return circuit"
      ],
      "execution_count": 48,
      "outputs": []
    },
    {
      "cell_type": "markdown",
      "metadata": {
        "id": "38Z3wdX5kn7n"
      },
      "source": [
        "The second component we need is a circuit to perform SWAP test. At the end of the QGRNN circuit, we check how similar the quantum state being produced with the quantum data. This similarity can be measured by calculating their overlap with SWAP test."
      ]
    },
    {
      "cell_type": "code",
      "metadata": {
        "id": "Y2x66C7fkXXl"
      },
      "source": [
        "def swap_test(circuit, control, register1, register2):\n",
        "\n",
        "    circuit.h(control)\n",
        "    for reg1_qubit, reg2_qubit in zip(register1, register2):\n",
        "        circuit.cswap(control, reg1_qubit, reg2_qubit)\n",
        "    circuit.h(control)\n",
        "    \n",
        "    return circuit"
      ],
      "execution_count": 49,
      "outputs": []
    },
    {
      "cell_type": "markdown",
      "metadata": {
        "id": "YD381M01l0KO"
      },
      "source": [
        "Let's generate the initial guess of the graph and its weights & bias. We start from a complete graph and assume that all qubits are connected to each other."
      ]
    },
    {
      "cell_type": "code",
      "metadata": {
        "colab": {
          "base_uri": "https://localhost:8080/",
          "height": 337
        },
        "id": "ghZDv_RkleiY",
        "outputId": "d37932f7-6cdb-41ee-817d-a21d4fa5a85c"
      },
      "source": [
        "# Defines some fixed values\n",
        "\n",
        "reg_data = tuple(range(num_qubit))  # First qubit register for quantum data\n",
        "reg_qgrnn = tuple(range(num_qubit, 2 * num_qubit))  # Second qubit register for QGRNN\n",
        "\n",
        "control = 2 * num_qubit  # Index of control qubit\n",
        "trotter_step = 0.01  # Trotter step size\n",
        "\n",
        "# Defines the initial interaction graph\n",
        "\n",
        "initial_ising_graph = nx.complete_graph(reg_qgrnn)\n",
        "\n",
        "print(\"Edges:\", initial_ising_graph.edges)\n",
        "nx.draw(initial_ising_graph)"
      ],
      "execution_count": 53,
      "outputs": [
        {
          "output_type": "stream",
          "text": [
            "Edges: [(4, 5), (4, 6), (4, 7), (5, 6), (5, 7), (6, 7)]\n"
          ],
          "name": "stdout"
        },
        {
          "output_type": "display_data",
          "data": {
            "image/png": "[encoded data removed]",
            "text/plain": [
              "<Figure size 432x288 with 1 Axes>"
            ]
          },
          "metadata": {
            "tags": []
          }
        }
      ]
    },
    {
      "cell_type": "code",
      "metadata": {
        "colab": {
          "base_uri": "https://localhost:8080/"
        },
        "id": "jdlj1b0wmmzS",
        "outputId": "7b2c9e65-4d8a-4ffa-b603-4d23451b0fd0"
      },
      "source": [
        "# Initialize random weights and bias\n",
        "\n",
        "weights = rng.random(size=len(initial_ising_graph.edges)) - 0.5\n",
        "bias = rng.random(size=num_qubit) - 0.5\n",
        "trainable_params = np.concatenate((weights, bias))\n",
        "\n",
        "initial_weights = copy.copy(weights)\n",
        "initial_bias = copy.copy(bias)\n",
        "\n",
        "print(trainable_params)"
      ],
      "execution_count": 54,
      "outputs": [
        {
          "output_type": "stream",
          "text": [
            "[-0.01498634 -0.19873312  0.22195094  0.42989066  0.40823581 -0.41504144\n",
            " -0.22963383  0.47168176 -0.23984993  0.30052031]\n"
          ],
          "name": "stdout"
        }
      ]
    },
    {
      "cell_type": "markdown",
      "metadata": {
        "id": "6getKW60qWKg"
      },
      "source": [
        "Putting everything together ..."
      ]
    },
    {
      "cell_type": "code",
      "metadata": {
        "id": "apNrQnMknKve"
      },
      "source": [
        "def qgrnn(param_weights, param_bias, time=None):\n",
        "\n",
        "    circuit = QuantumCircuit(2*num_qubit+1, 1)\n",
        "    \n",
        "    # Prepares the low energy state in the two registers\n",
        "    circuit.initialize(np.kron(low_energy_state, low_energy_state), reg_data + reg_qgrnn)\n",
        "\n",
        "    # Evolves the first qubit register with the time-evolution circuit to\n",
        "    # prepare a piece of quantum data\n",
        "    circuit = state_evolve(circuit, H_matrix, reg_data, time)\n",
        "\n",
        "    # Applies the QGRNN layers to the second qubit register\n",
        "    depth = time / trotter_step  # P = t/Delta\n",
        "    for _ in range(0, int(depth)):\n",
        "        circuit = qgrnn_layer(circuit, param_weights, param_bias, reg_qgrnn, initial_ising_graph, trotter_step)\n",
        "\n",
        "    # Applies the SWAP test between the registers\n",
        "    circuit = swap_test(circuit, control, reg_data, reg_qgrnn)\n",
        "\n",
        "    # Measure the circuit\n",
        "    circuit.measure([control], [0])\n",
        "    \n",
        "    return circuit"
      ],
      "execution_count": 57,
      "outputs": []
    },
    {
      "cell_type": "code",
      "metadata": {
        "colab": {
          "base_uri": "https://localhost:8080/",
          "height": 1000
        },
        "id": "AVrWXeYjq-Vd",
        "outputId": "9d3a9d3c-3bba-4e75-b639-c86124a3cb9c"
      },
      "source": [
        "qgrnn(initial_weights, initial_bias, time=0.02).draw()"
      ],
      "execution_count": 58,
      "outputs": [
        {
          "output_type": "execute_result",
          "data": {
            "text/html": [
              "<pre style=\"word-wrap: normal;white-space: pre;background: #fff0;line-height: 1.1;font-family: &quot;Courier New&quot;,Courier,monospace\">     »\n",
              "q_0: »\n",
              "     »\n",
              "q_1: »\n",
              "     »\n",
              "q_2: »\n",
              "     »\n",
              "q_3: »\n",
              "     »\n",
              "q_4: »\n",
              "     »\n",
              "q_5: »\n",
              "     »\n",
              "q_6: »\n",
              "     »\n",
              "q_7: »\n",
              "     »\n",
              "q_8: »\n",
              "     »\n",
              "c: 1/»\n",
              "     »\n",
              "«     ┌──────────────────────────────────────────────────────────────────────────────────────────────────────────────────────────────────────────────────────────────────────────────────────────────────────────────────────────────────────────────────────────────────────────────────────────────────────────────────────────────────────────────────────────────────────────────────────────────────────────────────────────────────────────────────────────────────────────────────────────────────────────────────────────────────────────────────────────────────────────────────────────────────────────────────────────────────────────────────────────────────────────────────────────────────────────────────────────────────────────────────────────────────────────────────────────────────────────────────────────────────────────────────────────────────────────────────────────────────────────────────────────────────────────────────────────────────────────────────────────────────────────────────────────────────────────────────────────────────────────────────────────────────────────────────────────────────────────────────────────────────────────────────────────────────────────────────────────────────────────────────────────────────────────────────────────────────────────────────────────────────────────────────────────────────────────────────────────────────────────────────────────────────────────────────────────────────────────────────────────────────────────────────────────────────────────────────────────────────────────────────────────────────────────────────────────────────────────────────────────────────────────────────────────────────────────────────────────────────────────────────────────────────────────────────────────────────────────────────────────────────────────────────────────────────────────────────────────────────────────────────────────────────────────────────────────────────────────────────────────────────────────────────────────────────────────────────────────────────────────────────────────────────────────────────────────────────────────────────────────────────────────────────────────────────────────────────────────────────────────────────────────────────────────────────────────────────────────────────────────────────────────────────────────────────────────────────────────────────────────────────────────────────────────────────────────────────────────────┐»\n",
              "«q_0: ┤0                                                                                                                                                                                                                                                                                                                                                                                                                                                                                                                                                                                                                                                                                                                                                                                                                                                                                                                                                                                                                                                                                                                                                                                                                                                                                                                                                                                                                                                                                                                                                                                                                                                                                                                                                                                                                                                                                                                                                                                                                                                                                                                                                                                                                                                                                                                                                                                                                                                                             ├»\n",
              "«     │                                                                                                                                                                                                                                                                                                                                                                                                                                                                                                                                                                                                                                                                                                                                                                                                                                                                                                                                                                                                                                                                                                                                                                                                                                                                                                                                                                                                                                                                                                                                                                                                                                                                                                                                                                                                                                                                                                                                                                                                                                                                                                                                                                                                                                                                                                                                                                                                                                                                              │»\n",
              "«q_1: ┤1                                                                                                                                                                                                                                                                                                                                                                                                                                                                                                                                                                                                                                                                                                                                                                                                                                                                                                                                                                                                                                                                                                                                                                                                                                                                                                                                                                                                                                                                                                                                                                                                                                                                                                                                                                                                                                                                                                                                                                                                                                                                                                                                                                                                                                                                                                                                                                                                                                                                             ├»\n",
              "«     │                                                                                                                                                                                                                                                                                                                                                                                                                                                                                                                                                                                                                                                                                                                                                                                                                                                                                                                                                                                                                                                                                                                                                                                                                                                                                                                                                                                                                                                                                                                                                                                                                                                                                                                                                                                                                                                                                                                                                                                                                                                                                                                                                                                                                                                                                                                                                                                                                                                                              │»\n",
              "«q_2: ┤2                                                                                                                                                                                                                                                                                                                                                                                                                                                                                                                                                                                                                                                                                                                                                                                                                                                                                                                                                                                                                                                                                                                                                                                                                                                                                                                                                                                                                                                                                                                                                                                                                                                                                                                                                                                                                                                                                                                                                                                                                                                                                                                                                                                                                                                                                                                                                                                                                                                                             ├»\n",
              "«     │                                                                                                                                                                                                                                                                                                                                                                                                                                                                                                                                                                                                                                                                                                                                                                                                                                                                                                                                                                                                                                                                                                                                                                                                                                                                                                                                                                                                                                                                                                                                                                                                                                                                                                                                                                                                                                                                                                                                                                                                                                                                                                                                                                                                                                                                                                                                                                                                                                                                              │»\n",
              "«q_3: ┤3                                                                                                                                                                                                                                                                                                                                                                                                                                                                                                                                                                                                                                                                                                                                                                                                                                                                                                                                                                                                                                                                                                                                                                                                                                                                                                                                                                                                                                                                                                                                                                                                                                                                                                                                                                                                                                                                                                                                                                                                                                                                                                                                                                                                                                                                                                                                                                                                                                                                             ├»\n",
              "«     │  initialize(0.10295,-0.064418,-0.054276,0.041409,-0.12794,0.097018,0.070859,-0.049193,-0.10826,0.095297,0.054845,-0.04865,0.098804,-0.099727,-0.050586,0.043343,-0.064418,0.040307,0.033961,-0.02591,0.080052,-0.060706,-0.044337,0.03078,0.067737,-0.059629,-0.034317,0.030441,-0.061823,0.062401,0.031652,-0.02712,-0.054276,0.033961,0.028614,-0.021831,0.067448,-0.051148,-0.037356,0.025934,0.057072,-0.05024,-0.028914,0.025648,-0.052089,0.052576,0.026669,-0.02285,0.041409,-0.02591,-0.021831,0.016656,-0.051459,0.039023,0.028501,-0.019786,-0.043542,0.03833,0.02206,-0.019568,0.039741,-0.040112,-0.020347,0.017433,-0.12794,0.080052,0.067448,-0.051459,0.15899,-0.12056,-0.088056,0.061132,0.13453,-0.11843,-0.068156,0.060457,-0.12278,0.12393,0.062863,-0.053862,0.097018,-0.060706,-0.051148,0.039023,-0.12056,0.091427,0.066775,-0.046358,-0.10202,0.089805,0.051684,-0.045846,0.09311,-0.09398,-0.04767,0.040845,0.070859,-0.044337,-0.037356,0.028501,-0.088056,0.066775,0.04877,-0.033858,-0.074509,0.06559,0.037748,-0.033484,0.068004,-0.06864,-0.034817,0.029832,-0.049193,0.03078,0.025934,-0.019786,0.061132,-0.046358,-0.033858,0.023505,0.051727,-0.045535,-0.026206,0.023246,-0.047211,0.047652,0.024171,-0.02071,-0.10826,0.067737,0.057072,-0.043542,0.13453,-0.10202,-0.074509,0.051727,0.11383,-0.10021,-0.05767,0.051156,-0.10389,0.10487,0.053192,-0.045576,0.095297,-0.059629,-0.05024,0.03833,-0.11843,0.089805,0.06559,-0.045535,-0.10021,0.088212,0.050767,-0.045033,0.091458,-0.092313,-0.046825,0.04012,0.054845,-0.034317,-0.028914,0.02206,-0.068156,0.051684,0.037748,-0.026206,-0.05767,0.050767,0.029217,-0.025917,0.052636,-0.053127,-0.026948,0.02309,-0.04865,0.030441,0.025648,-0.019568,0.060457,-0.045846,-0.033484,0.023246,0.051156,-0.045033,-0.025917,0.022989,-0.04669,0.047126,0.023904,-0.020482,0.098804,-0.061823,-0.052089,0.039741,-0.12278,0.09311,0.068004,-0.047211,-0.10389,0.091458,0.052636,-0.04669,0.094824,-0.09571,-0.048548,0.041597,-0.099727,0.062401,0.052576,-0.040112,0.12393,-0.09398,-0.06864,0.047652,0.10487,-0.092313,-0.053127,0.047126,-0.09571,0.096604,0.049002,-0.041985,-0.050586,0.031652,0.026669,-0.020347,0.062863,-0.04767,-0.034817,0.024171,0.053192,-0.046825,-0.026948,0.023904,-0.048548,0.049002,0.024856,-0.021297,0.043343,-0.02712,-0.02285,0.017433,-0.053862,0.040845,0.029832,-0.02071,-0.045576,0.04012,0.02309,-0.020482,0.041597,-0.041985,-0.021297,0.018247) │»\n",
              "«q_4: ┤4                                                                                                                                                                                                                                                                                                                                                                                                                                                                                                                                                                                                                                                                                                                                                                                                                                                                                                                                                                                                                                                                                                                                                                                                                                                                                                                                                                                                                                                                                                                                                                                                                                                                                                                                                                                                                                                                                                                                                                                                                                                                                                                                                                                                                                                                                                                                                                                                                                                                             ├»\n",
              "«     │                                                                                                                                                                                                                                                                                                                                                                                                                                                                                                                                                                                                                                                                                                                                                                                                                                                                                                                                                                                                                                                                                                                                                                                                                                                                                                                                                                                                                                                                                                                                                                                                                                                                                                                                                                                                                                                                                                                                                                                                                                                                                                                                                                                                                                                                                                                                                                                                                                                                              │»\n",
              "«q_5: ┤5                                                                                                                                                                                                                                                                                                                                                                                                                                                                                                                                                                                                                                                                                                                                                                                                                                                                                                                                                                                                                                                                                                                                                                                                                                                                                                                                                                                                                                                                                                                                                                                                                                                                                                                                                                                                                                                                                                                                                                                                                                                                                                                                                                                                                                                                                                                                                                                                                                                                             ├»\n",
              "«     │                                                                                                                                                                                                                                                                                                                                                                                                                                                                                                                                                                                                                                                                                                                                                                                                                                                                                                                                                                                                                                                                                                                                                                                                                                                                                                                                                                                                                                                                                                                                                                                                                                                                                                                                                                                                                                                                                                                                                                                                                                                                                                                                                                                                                                                                                                                                                                                                                                                                              │»\n",
              "«q_6: ┤6                                                                                                                                                                                                                                                                                                                                                                                                                                                                                                                                                                                                                                                                                                                                                                                                                                                                                                                                                                                                                                                                                                                                                                                                                                                                                                                                                                                                                                                                                                                                                                                                                                                                                                                                                                                                                                                                                                                                                                                                                                                                                                                                                                                                                                                                                                                                                                                                                                                                             ├»\n",
              "«     │                                                                                                                                                                                                                                                                                                                                                                                                                                                                                                                                                                                                                                                                                                                                                                                                                                                                                                                                                                                                                                                                                                                                                                                                                                                                                                                                                                                                                                                                                                                                                                                                                                                                                                                                                                                                                                                                                                                                                                                                                                                                                                                                                                                                                                                                                                                                                                                                                                                                              │»\n",
              "«q_7: ┤7                                                                                                                                                                                                                                                                                                                                                                                                                                                                                                                                                                                                                                                                                                                                                                                                                                                                                                                                                                                                                                                                                                                                                                                                                                                                                                                                                                                                                                                                                                                                                                                                                                                                                                                                                                                                                                                                                                                                                                                                                                                                                                                                                                                                                                                                                                                                                                                                                                                                             ├»\n",
              "«     └────────────────────────────────────────────────────────────────────────────────────────────────────────────────────────────────────────────────────────────────────────────────────────────────────────────────────────────────────────────────────────────────────────────────────────────────────────────────────────────────────────────────────────────────────────────────────────────────────────────────────────────────────────────────────────────────────────────────────────────────────────────────────────────────────────────────────────────────────────────────────────────────────────────────────────────────────────────────────────────────────────────────────────────────────────────────────────────────────────────────────────────────────────────────────────────────────────────────────────────────────────────────────────────────────────────────────────────────────────────────────────────────────────────────────────────────────────────────────────────────────────────────────────────────────────────────────────────────────────────────────────────────────────────────────────────────────────────────────────────────────────────────────────────────────────────────────────────────────┬───┬─────────────────────────────────────────────────────────────────────────────────────────────────────────────────────────────────────────────────────────────────────────────────────────────────────────────────────────────────────────────────────────────────────────────────────────────────────────────────────────────────────────────────────────────────────────────────────────────────────────────────────────────────────────────────────────────────────────────────────────────────────────────────────────────────────────────────────────────────────────────────────────────────────────────────────────────────────────────────────────────────────────────────────────────────────────────────────────────────────────────────────────────────────────────────────────────────────────────────────────────────────────────────────────────────────────────────────────────────────────────────────────────────────────────────────────────────────────────────────────────────────────────────────────────────────────────────────────────────────────────────────────────────────────────────────────────────────────────────────────────────────────────────────────────────────────────────────────────────────┘»\n",
              "«q_8: ─────────────────────────────────────────────────────────────────────────────────────────────────────────────────────────────────────────────────────────────────────────────────────────────────────────────────────────────────────────────────────────────────────────────────────────────────────────────────────────────────────────────────────────────────────────────────────────────────────────────────────────────────────────────────────────────────────────────────────────────────────────────────────────────────────────────────────────────────────────────────────────────────────────────────────────────────────────────────────────────────────────────────────────────────────────────────────────────────────────────────────────────────────────────────────────────────────────────────────────────────────────────────────────────────────────────────────────────────────────────────────────────────────────────────────────────────────────────────────────────────────────────────────────────────────────────────────────────────────────────────────────────────────────────────────────────────────────────────────────────────────────────────────────────────────────────────────────────────────┤ H ├──────────────────────────────────────────────────────────────────────────────────────────────────────────────────────────────────────────────────────────────────────────────────────────────────────────────────────────────────────────────────────────────────────────────────────────────────────────────────────────────────────────────────────────────────────────────────────────────────────────────────────────────────────────────────────────────────────────────────────────────────────────────────────────────────────────────────────────────────────────────────────────────────────────────────────────────────────────────────────────────────────────────────────────────────────────────────────────────────────────────────────────────────────────────────────────────────────────────────────────────────────────────────────────────────────────────────────────────────────────────────────────────────────────────────────────────────────────────────────────────────────────────────────────────────────────────────────────────────────────────────────────────────────────────────────────────────────────────────────────────────────────────────────────────────────────────────────────────────────»\n",
              "«                                                                                                                                                                                                                                                                                                                                                                                                                                                                                                                                                                                                                                                                                                                                                                                                                                                                                                                                                                                                                                                                                                                                                                                                                                          └───┘                                                                                                                                                                                                                                                                                                                                                                                                                                                                                                                                                                                                                                                                                                                                                                                                                                                                                                                                                                                                                                                                                                                                                                                                                                      »\n",
              "«c: 1/════════════════════════════════════════════════════════════════════════════════════════════════════════════════════════════════════════════════════════════════════════════════════════════════════════════════════════════════════════════════════════════════════════════════════════════════════════════════════════════════════════════════════════════════════════════════════════════════════════════════════════════════════════════════════════════════════════════════════════════════════════════════════════════════════════════════════════════════════════════════════════════════════════════════════════════════════════════════════════════════════════════════════════════════════════════════════════════════════════════════════════════════════════════════════════════════════════════════════════════════════════════════════════════════════════════════════════════════════════════════════════════════════════════════════════════════════════════════════════════════════════════════════════════════════════════════════════════════════════════════════════════════════════════════════════════════════════════════════════════════════════════════════════════════════════════════════════════════════════════════════════════════════════════════════════════════════════════════════════════════════════════════════════════════════════════════════════════════════════════════════════════════════════════════════════════════════════════════════════════════════════════════════════════════════════════════════════════════════════════════════════════════════════════════════════════════════════════════════════════════════════════════════════════════════════════════════════════════════════════════════════════════════════════════════════════════════════════════════════════════════════════════════════════════════════════════════════════════════════════════════════════════════════════════════════════════════════════════════════════════════════════════════════════════════════════════════════════════════════════════════════════════════════════════════════════════════════════════════════════════════════════════════════════════════════════════════════════════════════════════════════════════════════════════════════════════════════════════════════════════════════════════════════════════════════════════════════════════════════════════════════════════════════════════════════════════════════════════»\n",
              "«                                                                                                                                                                                                                                                                                                                                                                                                                                                                                                                                                                                                                                                                                                                                                                                                                                                                                                                                                                                                                                                                                                                                                                                                                                                                                                                                                                                                                                                                                                                                                                                                                                                                                                                                                                                                                                                                                                                                                                                                                                                                                                                                                                                                                                                                                                                                                                                                                                                                                     »\n",
              "«        ┌──────────┐                                                     »\n",
              "«q_0: ───┤0         ├─────────────────────────────────────────────────────»\n",
              "«        │          │                                                     »\n",
              "«q_1: ───┤1         ├─────────────────────────────────────────────────────»\n",
              "«        │  unitary │                                                     »\n",
              "«q_2: ───┤2         ├─────────────────────────────────────────────────────»\n",
              "«        │          │                                                     »\n",
              "«q_3: ───┤3         ├─────────────────────────────────────────────────────»\n",
              "«        └──────────┘                                   ┌────────────────┐»\n",
              "«q_4: ─■─────────────────■────────────────■─────────────┤ RZ(-0.0045927) ├»\n",
              "«      │ZZ(-0.00029973)  │                │             └────────────────┘»\n",
              "«q_5: ─■─────────────────┼────────────────┼───────────────■───────────────»\n",
              "«                        │ZZ(-0.0039747)  │               │ZZ(0.0085978)  »\n",
              "«q_6: ───────────────────■────────────────┼───────────────■───────────────»\n",
              "«                                         │ZZ(0.004439)                   »\n",
              "«q_7: ────────────────────────────────────■───────────────────────────────»\n",
              "«                                                                         »\n",
              "«q_8: ────────────────────────────────────────────────────────────────────»\n",
              "«                                                                         »\n",
              "«c: 1/════════════════════════════════════════════════════════════════════»\n",
              "«                                                                         »\n",
              "«                                                                         »\n",
              "«q_0: ────────────────────────────────────────────────────────────────────»\n",
              "«                                                                         »\n",
              "«q_1: ────────────────────────────────────────────────────────────────────»\n",
              "«                                                                         »\n",
              "«q_2: ────────────────────────────────────────────────────────────────────»\n",
              "«                                                                         »\n",
              "«q_3: ────────────────────────────────────────────────────────────────────»\n",
              "«       ┌──────────┐                                                      »\n",
              "«q_4: ──┤ RX(0.02) ├─────────────────────────────────────■────────────────»\n",
              "«       └──────────┘  ┌───────────────┐   ┌──────────┐   │ZZ(-0.00029973) »\n",
              "«q_5: ─■──────────────┤ RZ(0.0094336) ├───┤ RX(0.02) ├───■────────────────»\n",
              "«      │              └───────────────┘┌──┴──────────┴─┐   ┌──────────┐   »\n",
              "«q_6: ─┼───────────────■───────────────┤ RZ(-0.004797) ├───┤ RX(0.02) ├───»\n",
              "«      │ZZ(0.0081647)  │ZZ(-0.0083008) ├───────────────┤   ├──────────┤   »\n",
              "«q_7: ─■───────────────■───────────────┤ RZ(0.0060104) ├───┤ RX(0.02) ├───»\n",
              "«                                      └───────────────┘   └──────────┘   »\n",
              "«q_8: ────────────────────────────────────────────────────────────────────»\n",
              "«                                                                         »\n",
              "«c: 1/════════════════════════════════════════════════════════════════════»\n",
              "«                                                                         »\n",
              "«                                                                       »\n",
              "«q_0: ──────────────────────────────────────────────────────────────────»\n",
              "«                                                                       »\n",
              "«q_1: ──────────────────────────────────────────────────────────────────»\n",
              "«                                                                       »\n",
              "«q_2: ──────────────────────────────────────────────────────────────────»\n",
              "«                                                                       »\n",
              "«q_3: ──────────────────────────────────────────────────────────────────»\n",
              "«                                     ┌────────────────┐  ┌──────────┐  »\n",
              "«q_4: ─■────────────────■─────────────┤ RZ(-0.0045927) ├──┤ RX(0.02) ├──»\n",
              "«      │                │             └────────────────┘  └──────────┘  »\n",
              "«q_5: ─┼────────────────┼───────────────■────────────────■──────────────»\n",
              "«      │ZZ(-0.0039747)  │               │ZZ(0.0085978)   │              »\n",
              "«q_6: ─■────────────────┼───────────────■────────────────┼──────────────»\n",
              "«                       │ZZ(0.004439)                    │ZZ(0.0081647) »\n",
              "«q_7: ──────────────────■────────────────────────────────■──────────────»\n",
              "«                                                                       »\n",
              "«q_8: ──────────────────────────────────────────────────────────────────»\n",
              "«                                                                       »\n",
              "«c: 1/══════════════════════════════════════════════════════════════════»\n",
              "«                                                                       »\n",
              "«                                                                       \n",
              "«q_0: ───────────────────────────────────X──────────────────────────────\n",
              "«                                        │                              \n",
              "«q_1: ───────────────────────────────────┼──────────────X───────────────\n",
              "«                                        │              │               \n",
              "«q_2: ───────────────────────────────────┼──────────────┼──X────────────\n",
              "«                                        │              │  │            \n",
              "«q_3: ───────────────────────────────────┼──────────────┼──┼──X─────────\n",
              "«                                        │              │  │  │         \n",
              "«q_4: ───────────────────────────────────X──────────────┼──┼──┼─────────\n",
              "«     ┌───────────────┐   ┌──────────┐   │              │  │  │         \n",
              "«q_5: ┤ RZ(0.0094336) ├───┤ RX(0.02) ├───┼──────────────X──┼──┼─────────\n",
              "«     └───────────────┘┌──┴──────────┴─┐ │ ┌──────────┐ │  │  │         \n",
              "«q_6: ─■───────────────┤ RZ(-0.004797) ├─┼─┤ RX(0.02) ├─┼──X──┼─────────\n",
              "«      │ZZ(-0.0083008) ├───────────────┤ │ ├──────────┤ │  │  │         \n",
              "«q_7: ─■───────────────┤ RZ(0.0060104) ├─┼─┤ RX(0.02) ├─┼──┼──X─────────\n",
              "«                      └───────────────┘ │ └──────────┘ │  │  │ ┌───┐┌─┐\n",
              "«q_8: ───────────────────────────────────■──────────────■──■──■─┤ H ├┤M├\n",
              "«                                                               └───┘└╥┘\n",
              "«c: 1/════════════════════════════════════════════════════════════════╩═\n",
              "«                                                                     0 </pre>"
            ],
            "text/plain": [
              "     »\n",
              "q_0: »\n",
              "     »\n",
              "q_1: »\n",
              "     »\n",
              "q_2: »\n",
              "     »\n",
              "q_3: »\n",
              "     »\n",
              "q_4: »\n",
              "     »\n",
              "q_5: »\n",
              "     »\n",
              "q_6: »\n",
              "     »\n",
              "q_7: »\n",
              "     »\n",
              "q_8: »\n",
              "     »\n",
              "c: 1/»\n",
              "     »\n",
              "«     ┌──────────────────────────────────────────────────────────────────────────────────────────────────────────────────────────────────────────────────────────────────────────────────────────────────────────────────────────────────────────────────────────────────────────────────────────────────────────────────────────────────────────────────────────────────────────────────────────────────────────────────────────────────────────────────────────────────────────────────────────────────────────────────────────────────────────────────────────────────────────────────────────────────────────────────────────────────────────────────────────────────────────────────────────────────────────────────────────────────────────────────────────────────────────────────────────────────────────────────────────────────────────────────────────────────────────────────────────────────────────────────────────────────────────────────────────────────────────────────────────────────────────────────────────────────────────────────────────────────────────────────────────────────────────────────────────────────────────────────────────────────────────────────────────────────────────────────────────────────────────────────────────────────────────────────────────────────────────────────────────────────────────────────────────────────────────────────────────────────────────────────────────────────────────────────────────────────────────────────────────────────────────────────────────────────────────────────────────────────────────────────────────────────────────────────────────────────────────────────────────────────────────────────────────────────────────────────────────────────────────────────────────────────────────────────────────────────────────────────────────────────────────────────────────────────────────────────────────────────────────────────────────────────────────────────────────────────────────────────────────────────────────────────────────────────────────────────────────────────────────────────────────────────────────────────────────────────────────────────────────────────────────────────────────────────────────────────────────────────────────────────────────────────────────────────────────────────────────────────────────────────────────────────────────────────────────────────────────────────────────────────────────────────────────────────────────────────────────────┐»\n",
              "«q_0: ┤0                                                                                                                                                                                                                                                                                                                                                                                                                                                                                                                                                                                                                                                                                                                                                                                                                                                                                                                                                                                                                                                                                                                                                                                                                                                                                                                                                                                                                                                                                                                                                                                                                                                                                                                                                                                                                                                                                                                                                                                                                                                                                                                                                                                                                                                                                                                                                                                                                                                                             ├»\n",
              "«     │                                                                                                                                                                                                                                                                                                                                                                                                                                                                                                                                                                                                                                                                                                                                                                                                                                                                                                                                                                                                                                                                                                                                                                                                                                                                                                                                                                                                                                                                                                                                                                                                                                                                                                                                                                                                                                                                                                                                                                                                                                                                                                                                                                                                                                                                                                                                                                                                                                                                              │»\n",
              "«q_1: ┤1                                                                                                                                                                                                                                                                                                                                                                                                                                                                                                                                                                                                                                                                                                                                                                                                                                                                                                                                                                                                                                                                                                                                                                                                                                                                                                                                                                                                                                                                                                                                                                                                                                                                                                                                                                                                                                                                                                                                                                                                                                                                                                                                                                                                                                                                                                                                                                                                                                                                             ├»\n",
              "«     │                                                                                                                                                                                                                                                                                                                                                                                                                                                                                                                                                                                                                                                                                                                                                                                                                                                                                                                                                                                                                                                                                                                                                                                                                                                                                                                                                                                                                                                                                                                                                                                                                                                                                                                                                                                                                                                                                                                                                                                                                                                                                                                                                                                                                                                                                                                                                                                                                                                                              │»\n",
              "«q_2: ┤2                                                                                                                                                                                                                                                                                                                                                                                                                                                                                                                                                                                                                                                                                                                                                                                                                                                                                                                                                                                                                                                                                                                                                                                                                                                                                                                                                                                                                                                                                                                                                                                                                                                                                                                                                                                                                                                                                                                                                                                                                                                                                                                                                                                                                                                                                                                                                                                                                                                                             ├»\n",
              "«     │                                                                                                                                                                                                                                                                                                                                                                                                                                                                                                                                                                                                                                                                                                                                                                                                                                                                                                                                                                                                                                                                                                                                                                                                                                                                                                                                                                                                                                                                                                                                                                                                                                                                                                                                                                                                                                                                                                                                                                                                                                                                                                                                                                                                                                                                                                                                                                                                                                                                              │»\n",
              "«q_3: ┤3                                                                                                                                                                                                                                                                                                                                                                                                                                                                                                                                                                                                                                                                                                                                                                                                                                                                                                                                                                                                                                                                                                                                                                                                                                                                                                                                                                                                                                                                                                                                                                                                                                                                                                                                                                                                                                                                                                                                                                                                                                                                                                                                                                                                                                                                                                                                                                                                                                                                             ├»\n",
              "«     │  initialize(0.10295,-0.064418,-0.054276,0.041409,-0.12794,0.097018,0.070859,-0.049193,-0.10826,0.095297,0.054845,-0.04865,0.098804,-0.099727,-0.050586,0.043343,-0.064418,0.040307,0.033961,-0.02591,0.080052,-0.060706,-0.044337,0.03078,0.067737,-0.059629,-0.034317,0.030441,-0.061823,0.062401,0.031652,-0.02712,-0.054276,0.033961,0.028614,-0.021831,0.067448,-0.051148,-0.037356,0.025934,0.057072,-0.05024,-0.028914,0.025648,-0.052089,0.052576,0.026669,-0.02285,0.041409,-0.02591,-0.021831,0.016656,-0.051459,0.039023,0.028501,-0.019786,-0.043542,0.03833,0.02206,-0.019568,0.039741,-0.040112,-0.020347,0.017433,-0.12794,0.080052,0.067448,-0.051459,0.15899,-0.12056,-0.088056,0.061132,0.13453,-0.11843,-0.068156,0.060457,-0.12278,0.12393,0.062863,-0.053862,0.097018,-0.060706,-0.051148,0.039023,-0.12056,0.091427,0.066775,-0.046358,-0.10202,0.089805,0.051684,-0.045846,0.09311,-0.09398,-0.04767,0.040845,0.070859,-0.044337,-0.037356,0.028501,-0.088056,0.066775,0.04877,-0.033858,-0.074509,0.06559,0.037748,-0.033484,0.068004,-0.06864,-0.034817,0.029832,-0.049193,0.03078,0.025934,-0.019786,0.061132,-0.046358,-0.033858,0.023505,0.051727,-0.045535,-0.026206,0.023246,-0.047211,0.047652,0.024171,-0.02071,-0.10826,0.067737,0.057072,-0.043542,0.13453,-0.10202,-0.074509,0.051727,0.11383,-0.10021,-0.05767,0.051156,-0.10389,0.10487,0.053192,-0.045576,0.095297,-0.059629,-0.05024,0.03833,-0.11843,0.089805,0.06559,-0.045535,-0.10021,0.088212,0.050767,-0.045033,0.091458,-0.092313,-0.046825,0.04012,0.054845,-0.034317,-0.028914,0.02206,-0.068156,0.051684,0.037748,-0.026206,-0.05767,0.050767,0.029217,-0.025917,0.052636,-0.053127,-0.026948,0.02309,-0.04865,0.030441,0.025648,-0.019568,0.060457,-0.045846,-0.033484,0.023246,0.051156,-0.045033,-0.025917,0.022989,-0.04669,0.047126,0.023904,-0.020482,0.098804,-0.061823,-0.052089,0.039741,-0.12278,0.09311,0.068004,-0.047211,-0.10389,0.091458,0.052636,-0.04669,0.094824,-0.09571,-0.048548,0.041597,-0.099727,0.062401,0.052576,-0.040112,0.12393,-0.09398,-0.06864,0.047652,0.10487,-0.092313,-0.053127,0.047126,-0.09571,0.096604,0.049002,-0.041985,-0.050586,0.031652,0.026669,-0.020347,0.062863,-0.04767,-0.034817,0.024171,0.053192,-0.046825,-0.026948,0.023904,-0.048548,0.049002,0.024856,-0.021297,0.043343,-0.02712,-0.02285,0.017433,-0.053862,0.040845,0.029832,-0.02071,-0.045576,0.04012,0.02309,-0.020482,0.041597,-0.041985,-0.021297,0.018247) │»\n",
              "«q_4: ┤4                                                                                                                                                                                                                                                                                                                                                                                                                                                                                                                                                                                                                                                                                                                                                                                                                                                                                                                                                                                                                                                                                                                                                                                                                                                                                                                                                                                                                                                                                                                                                                                                                                                                                                                                                                                                                                                                                                                                                                                                                                                                                                                                                                                                                                                                                                                                                                                                                                                                             ├»\n",
              "«     │                                                                                                                                                                                                                                                                                                                                                                                                                                                                                                                                                                                                                                                                                                                                                                                                                                                                                                                                                                                                                                                                                                                                                                                                                                                                                                                                                                                                                                                                                                                                                                                                                                                                                                                                                                                                                                                                                                                                                                                                                                                                                                                                                                                                                                                                                                                                                                                                                                                                              │»\n",
              "«q_5: ┤5                                                                                                                                                                                                                                                                                                                                                                                                                                                                                                                                                                                                                                                                                                                                                                                                                                                                                                                                                                                                                                                                                                                                                                                                                                                                                                                                                                                                                                                                                                                                                                                                                                                                                                                                                                                                                                                                                                                                                                                                                                                                                                                                                                                                                                                                                                                                                                                                                                                                             ├»\n",
              "«     │                                                                                                                                                                                                                                                                                                                                                                                                                                                                                                                                                                                                                                                                                                                                                                                                                                                                                                                                                                                                                                                                                                                                                                                                                                                                                                                                                                                                                                                                                                                                                                                                                                                                                                                                                                                                                                                                                                                                                                                                                                                                                                                                                                                                                                                                                                                                                                                                                                                                              │»\n",
              "«q_6: ┤6                                                                                                                                                                                                                                                                                                                                                                                                                                                                                                                                                                                                                                                                                                                                                                                                                                                                                                                                                                                                                                                                                                                                                                                                                                                                                                                                                                                                                                                                                                                                                                                                                                                                                                                                                                                                                                                                                                                                                                                                                                                                                                                                                                                                                                                                                                                                                                                                                                                                             ├»\n",
              "«     │                                                                                                                                                                                                                                                                                                                                                                                                                                                                                                                                                                                                                                                                                                                                                                                                                                                                                                                                                                                                                                                                                                                                                                                                                                                                                                                                                                                                                                                                                                                                                                                                                                                                                                                                                                                                                                                                                                                                                                                                                                                                                                                                                                                                                                                                                                                                                                                                                                                                              │»\n",
              "«q_7: ┤7                                                                                                                                                                                                                                                                                                                                                                                                                                                                                                                                                                                                                                                                                                                                                                                                                                                                                                                                                                                                                                                                                                                                                                                                                                                                                                                                                                                                                                                                                                                                                                                                                                                                                                                                                                                                                                                                                                                                                                                                                                                                                                                                                                                                                                                                                                                                                                                                                                                                             ├»\n",
              "«     └────────────────────────────────────────────────────────────────────────────────────────────────────────────────────────────────────────────────────────────────────────────────────────────────────────────────────────────────────────────────────────────────────────────────────────────────────────────────────────────────────────────────────────────────────────────────────────────────────────────────────────────────────────────────────────────────────────────────────────────────────────────────────────────────────────────────────────────────────────────────────────────────────────────────────────────────────────────────────────────────────────────────────────────────────────────────────────────────────────────────────────────────────────────────────────────────────────────────────────────────────────────────────────────────────────────────────────────────────────────────────────────────────────────────────────────────────────────────────────────────────────────────────────────────────────────────────────────────────────────────────────────────────────────────────────────────────────────────────────────────────────────────────────────────────────────────────────────────────┬───┬─────────────────────────────────────────────────────────────────────────────────────────────────────────────────────────────────────────────────────────────────────────────────────────────────────────────────────────────────────────────────────────────────────────────────────────────────────────────────────────────────────────────────────────────────────────────────────────────────────────────────────────────────────────────────────────────────────────────────────────────────────────────────────────────────────────────────────────────────────────────────────────────────────────────────────────────────────────────────────────────────────────────────────────────────────────────────────────────────────────────────────────────────────────────────────────────────────────────────────────────────────────────────────────────────────────────────────────────────────────────────────────────────────────────────────────────────────────────────────────────────────────────────────────────────────────────────────────────────────────────────────────────────────────────────────────────────────────────────────────────────────────────────────────────────────────────────────────────────────┘»\n",
              "«q_8: ─────────────────────────────────────────────────────────────────────────────────────────────────────────────────────────────────────────────────────────────────────────────────────────────────────────────────────────────────────────────────────────────────────────────────────────────────────────────────────────────────────────────────────────────────────────────────────────────────────────────────────────────────────────────────────────────────────────────────────────────────────────────────────────────────────────────────────────────────────────────────────────────────────────────────────────────────────────────────────────────────────────────────────────────────────────────────────────────────────────────────────────────────────────────────────────────────────────────────────────────────────────────────────────────────────────────────────────────────────────────────────────────────────────────────────────────────────────────────────────────────────────────────────────────────────────────────────────────────────────────────────────────────────────────────────────────────────────────────────────────────────────────────────────────────────────────────────────────────────┤ H ├──────────────────────────────────────────────────────────────────────────────────────────────────────────────────────────────────────────────────────────────────────────────────────────────────────────────────────────────────────────────────────────────────────────────────────────────────────────────────────────────────────────────────────────────────────────────────────────────────────────────────────────────────────────────────────────────────────────────────────────────────────────────────────────────────────────────────────────────────────────────────────────────────────────────────────────────────────────────────────────────────────────────────────────────────────────────────────────────────────────────────────────────────────────────────────────────────────────────────────────────────────────────────────────────────────────────────────────────────────────────────────────────────────────────────────────────────────────────────────────────────────────────────────────────────────────────────────────────────────────────────────────────────────────────────────────────────────────────────────────────────────────────────────────────────────────────────────────────────────»\n",
              "«                                                                                                                                                                                                                                                                                                                                                                                                                                                                                                                                                                                                                                                                                                                                                                                                                                                                                                                                                                                                                                                                                                                                                                                                                                          └───┘                                                                                                                                                                                                                                                                                                                                                                                                                                                                                                                                                                                                                                                                                                                                                                                                                                                                                                                                                                                                                                                                                                                                                                                                                                      »\n",
              "«c: 1/════════════════════════════════════════════════════════════════════════════════════════════════════════════════════════════════════════════════════════════════════════════════════════════════════════════════════════════════════════════════════════════════════════════════════════════════════════════════════════════════════════════════════════════════════════════════════════════════════════════════════════════════════════════════════════════════════════════════════════════════════════════════════════════════════════════════════════════════════════════════════════════════════════════════════════════════════════════════════════════════════════════════════════════════════════════════════════════════════════════════════════════════════════════════════════════════════════════════════════════════════════════════════════════════════════════════════════════════════════════════════════════════════════════════════════════════════════════════════════════════════════════════════════════════════════════════════════════════════════════════════════════════════════════════════════════════════════════════════════════════════════════════════════════════════════════════════════════════════════════════════════════════════════════════════════════════════════════════════════════════════════════════════════════════════════════════════════════════════════════════════════════════════════════════════════════════════════════════════════════════════════════════════════════════════════════════════════════════════════════════════════════════════════════════════════════════════════════════════════════════════════════════════════════════════════════════════════════════════════════════════════════════════════════════════════════════════════════════════════════════════════════════════════════════════════════════════════════════════════════════════════════════════════════════════════════════════════════════════════════════════════════════════════════════════════════════════════════════════════════════════════════════════════════════════════════════════════════════════════════════════════════════════════════════════════════════════════════════════════════════════════════════════════════════════════════════════════════════════════════════════════════════════════════════════════════════════════════════════════════════════════════════════════════════════════════════════════════════»\n",
              "«                                                                                                                                                                                                                                                                                                                                                                                                                                                                                                                                                                                                                                                                                                                                                                                                                                                                                                                                                                                                                                                                                                                                                                                                                                                                                                                                                                                                                                                                                                                                                                                                                                                                                                                                                                                                                                                                                                                                                                                                                                                                                                                                                                                                                                                                                                                                                                                                                                                                                     »\n",
              "«        ┌──────────┐                                                     »\n",
              "«q_0: ───┤0         ├─────────────────────────────────────────────────────»\n",
              "«        │          │                                                     »\n",
              "«q_1: ───┤1         ├─────────────────────────────────────────────────────»\n",
              "«        │  unitary │                                                     »\n",
              "«q_2: ───┤2         ├─────────────────────────────────────────────────────»\n",
              "«        │          │                                                     »\n",
              "«q_3: ───┤3         ├─────────────────────────────────────────────────────»\n",
              "«        └──────────┘                                   ┌────────────────┐»\n",
              "«q_4: ─■─────────────────■────────────────■─────────────┤ RZ(-0.0045927) ├»\n",
              "«      │ZZ(-0.00029973)  │                │             └────────────────┘»\n",
              "«q_5: ─■─────────────────┼────────────────┼───────────────■───────────────»\n",
              "«                        │ZZ(-0.0039747)  │               │ZZ(0.0085978)  »\n",
              "«q_6: ───────────────────■────────────────┼───────────────■───────────────»\n",
              "«                                         │ZZ(0.004439)                   »\n",
              "«q_7: ────────────────────────────────────■───────────────────────────────»\n",
              "«                                                                         »\n",
              "«q_8: ────────────────────────────────────────────────────────────────────»\n",
              "«                                                                         »\n",
              "«c: 1/════════════════════════════════════════════════════════════════════»\n",
              "«                                                                         »\n",
              "«                                                                         »\n",
              "«q_0: ────────────────────────────────────────────────────────────────────»\n",
              "«                                                                         »\n",
              "«q_1: ────────────────────────────────────────────────────────────────────»\n",
              "«                                                                         »\n",
              "«q_2: ────────────────────────────────────────────────────────────────────»\n",
              "«                                                                         »\n",
              "«q_3: ────────────────────────────────────────────────────────────────────»\n",
              "«       ┌──────────┐                                                      »\n",
              "«q_4: ──┤ RX(0.02) ├─────────────────────────────────────■────────────────»\n",
              "«       └──────────┘  ┌───────────────┐   ┌──────────┐   │ZZ(-0.00029973) »\n",
              "«q_5: ─■──────────────┤ RZ(0.0094336) ├───┤ RX(0.02) ├───■────────────────»\n",
              "«      │              └───────────────┘┌──┴──────────┴─┐   ┌──────────┐   »\n",
              "«q_6: ─┼───────────────■───────────────┤ RZ(-0.004797) ├───┤ RX(0.02) ├───»\n",
              "«      │ZZ(0.0081647)  │ZZ(-0.0083008) ├───────────────┤   ├──────────┤   »\n",
              "«q_7: ─■───────────────■───────────────┤ RZ(0.0060104) ├───┤ RX(0.02) ├───»\n",
              "«                                      └───────────────┘   └──────────┘   »\n",
              "«q_8: ────────────────────────────────────────────────────────────────────»\n",
              "«                                                                         »\n",
              "«c: 1/════════════════════════════════════════════════════════════════════»\n",
              "«                                                                         »\n",
              "«                                                                       »\n",
              "«q_0: ──────────────────────────────────────────────────────────────────»\n",
              "«                                                                       »\n",
              "«q_1: ──────────────────────────────────────────────────────────────────»\n",
              "«                                                                       »\n",
              "«q_2: ──────────────────────────────────────────────────────────────────»\n",
              "«                                                                       »\n",
              "«q_3: ──────────────────────────────────────────────────────────────────»\n",
              "«                                     ┌────────────────┐  ┌──────────┐  »\n",
              "«q_4: ─■────────────────■─────────────┤ RZ(-0.0045927) ├──┤ RX(0.02) ├──»\n",
              "«      │                │             └────────────────┘  └──────────┘  »\n",
              "«q_5: ─┼────────────────┼───────────────■────────────────■──────────────»\n",
              "«      │ZZ(-0.0039747)  │               │ZZ(0.0085978)   │              »\n",
              "«q_6: ─■────────────────┼───────────────■────────────────┼──────────────»\n",
              "«                       │ZZ(0.004439)                    │ZZ(0.0081647) »\n",
              "«q_7: ──────────────────■────────────────────────────────■──────────────»\n",
              "«                                                                       »\n",
              "«q_8: ──────────────────────────────────────────────────────────────────»\n",
              "«                                                                       »\n",
              "«c: 1/══════════════════════════════════════════════════════════════════»\n",
              "«                                                                       »\n",
              "«                                                                       \n",
              "«q_0: ───────────────────────────────────X──────────────────────────────\n",
              "«                                        │                              \n",
              "«q_1: ───────────────────────────────────┼──────────────X───────────────\n",
              "«                                        │              │               \n",
              "«q_2: ───────────────────────────────────┼──────────────┼──X────────────\n",
              "«                                        │              │  │            \n",
              "«q_3: ───────────────────────────────────┼──────────────┼──┼──X─────────\n",
              "«                                        │              │  │  │         \n",
              "«q_4: ───────────────────────────────────X──────────────┼──┼──┼─────────\n",
              "«     ┌───────────────┐   ┌──────────┐   │              │  │  │         \n",
              "«q_5: ┤ RZ(0.0094336) ├───┤ RX(0.02) ├───┼──────────────X──┼──┼─────────\n",
              "«     └───────────────┘┌──┴──────────┴─┐ │ ┌──────────┐ │  │  │         \n",
              "«q_6: ─■───────────────┤ RZ(-0.004797) ├─┼─┤ RX(0.02) ├─┼──X──┼─────────\n",
              "«      │ZZ(-0.0083008) ├───────────────┤ │ ├──────────┤ │  │  │         \n",
              "«q_7: ─■───────────────┤ RZ(0.0060104) ├─┼─┤ RX(0.02) ├─┼──┼──X─────────\n",
              "«                      └───────────────┘ │ └──────────┘ │  │  │ ┌───┐┌─┐\n",
              "«q_8: ───────────────────────────────────■──────────────■──■──■─┤ H ├┤M├\n",
              "«                                                               └───┘└╥┘\n",
              "«c: 1/════════════════════════════════════════════════════════════════╩═\n",
              "«                                                                     0 "
            ]
          },
          "metadata": {
            "tags": []
          },
          "execution_count": 58
        }
      ]
    },
    {
      "cell_type": "code",
      "metadata": {
        "id": "iI6ERIj1rCcQ"
      },
      "source": [
        ""
      ],
      "execution_count": null,
      "outputs": []
    },
    {
      "cell_type": "markdown",
      "metadata": {
        "id": "ZIGGyuqIn2PV"
      },
      "source": [
        "# The Cost Function"
      ]
    },
    {
      "cell_type": "markdown",
      "metadata": {
        "id": "nqPTeMbXoD3P"
      },
      "source": [
        "The goal is to train the QGRNN circuit to reproduce the Hamiltonian matrix. This is achieved when the quantum state produced by QGRNN completely overlap with the quantum data. This means we want to maximize the overlap value from the SWAP test. Or, in another word, we want to minimize the negative of this value."
      ]
    },
    {
      "cell_type": "markdown",
      "metadata": {
        "id": "AOtWG-dznbOG"
      },
      "source": [
        "The Z expectation value of SWAP test is equal to this overlap."
      ]
    },
    {
      "cell_type": "code",
      "metadata": {
        "id": "9gsiwf9dnjlt"
      },
      "source": [
        "def z_exp(circuit, shots=10000):\n",
        "    backend = Aer.get_backend('aer_simulator_statevector')\n",
        "\n",
        "    job = backend.run(circuit, shots=shots)\n",
        "    result = job.result()\n",
        "    counts = result.get_counts(0)\n",
        "    \n",
        "    try:\n",
        "        exp_0 = counts['0']/shots\n",
        "    except:\n",
        "        exp_0 = 0\n",
        "        \n",
        "    try:\n",
        "        exp_1 = counts['1']/shots\n",
        "    except:\n",
        "        exp_1 = 0\n",
        "    \n",
        "    exp = exp_0 - exp_1\n",
        "    \n",
        "    return exp"
      ],
      "execution_count": 60,
      "outputs": []
    },
    {
      "cell_type": "code",
      "metadata": {
        "id": "oXV1E511rLFv"
      },
      "source": [
        "N = 15  # The number of pieces of quantum data that are used for each step\n",
        "max_time = 0.1  # The maximum value of time that can be used for quantum data"
      ],
      "execution_count": 61,
      "outputs": []
    },
    {
      "cell_type": "code",
      "metadata": {
        "id": "NyGTAl4Hn9Hk"
      },
      "source": [
        "def cost_function(params):\n",
        "\n",
        "    # Randomly samples times at which the QGRNN runs\n",
        "    times_sampled = rng.random(size=N) * max_time\n",
        "\n",
        "    # Cycles through each of the sampled times and calculates the cost\n",
        "    total_cost = 0\n",
        "    for dt in times_sampled:\n",
        "        result = z_exp(qgrnn(params[:len(initial_ising_graph.edges)], params[len(initial_ising_graph.edges):], time=dt))\n",
        "        total_cost += -1 * result\n",
        "\n",
        "    return total_cost / N"
      ],
      "execution_count": 65,
      "outputs": []
    },
    {
      "cell_type": "code",
      "metadata": {
        "colab": {
          "base_uri": "https://localhost:8080/"
        },
        "id": "YOfmSe_SrXAn",
        "outputId": "6cb590c5-b57c-4a9a-fcf0-4a1ed7bdfa65"
      },
      "source": [
        "# Sanity check, will be deleted in the final notebook\n",
        "\n",
        "backend = Aer.get_backend('aer_simulator_statevector')\n",
        "job = backend.run(qgrnn(trainable_params[:len(initial_ising_graph.edges)], trainable_params[len(initial_ising_graph.edges):], time=0.09716818), shots=10000)\n",
        "result = job.result()\n",
        "counts = result.get_counts(0)\n",
        "counts"
      ],
      "execution_count": 63,
      "outputs": [
        {
          "output_type": "execute_result",
          "data": {
            "text/plain": [
              "{'0': 9936, '1': 64}"
            ]
          },
          "metadata": {
            "tags": []
          },
          "execution_count": 63
        }
      ]
    },
    {
      "cell_type": "markdown",
      "metadata": {
        "id": "9iyAhK2Qr5Db"
      },
      "source": [
        "# Training the QGRNN"
      ]
    },
    {
      "cell_type": "code",
      "metadata": {
        "colab": {
          "base_uri": "https://localhost:8080/"
        },
        "id": "zY3Nvfhwrwm0",
        "outputId": "ab1cf8e9-aa47-4252-9543-028e84097f9e"
      },
      "source": [
        "# Sanity check\n",
        "cost_function(trainable_params)"
      ],
      "execution_count": 71,
      "outputs": [
        {
          "output_type": "execute_result",
          "data": {
            "text/plain": [
              "-0.9963333333333335"
            ]
          },
          "metadata": {
            "tags": []
          },
          "execution_count": 71
        }
      ]
    },
    {
      "cell_type": "markdown",
      "metadata": {
        "id": "9dr2toLEsnBh"
      },
      "source": [
        "Let's optimize the circuit's parameters (weights and bias) with L-BFGS optimizer."
      ]
    },
    {
      "cell_type": "code",
      "metadata": {
        "colab": {
          "base_uri": "https://localhost:8080/"
        },
        "id": "IlGkIr5sr-Ww",
        "outputId": "9e7d945b-df90-465d-bd89-80b853f6438a"
      },
      "source": [
        "opt_params = scipy.optimize.minimize(fun=cost_function, x0=trainable_params, tol=1e-12,\n",
        "                                     method='L-BFGS-B',\n",
        "                                    #args=(),\n",
        "                                    options={'maxiter':5000, 'ftol':1e-12})\n",
        "\n",
        "print(opt_params)"
      ],
      "execution_count": 72,
      "outputs": [
        {
          "output_type": "stream",
          "text": [
            "      fun: -0.9961466666666666\n",
            " hess_inv: <10x10 LbfgsInvHessProduct with dtype=float64>\n",
            "      jac: array([      0.        ,  114666.66666667, -108000.        ,\n",
            "        194666.66666667,  122666.66666666,  154666.66666664,\n",
            "         18666.66666667, -112000.00000001,   10666.66666665,\n",
            "         81333.33333332])\n",
            "  message: b'CONVERGENCE: REL_REDUCTION_OF_F_<=_FACTR*EPSMCH'\n",
            "     nfev: 286\n",
            "      nit: 3\n",
            "   status: 0\n",
            "  success: True\n",
            "        x: array([-0.01498508, -0.19873244,  0.22195127,  0.42989113,  0.4082361 ,\n",
            "       -0.41504067, -0.22963286,  0.47168226, -0.23985003,  0.30052158])\n"
          ],
          "name": "stdout"
        }
      ]
    },
    {
      "cell_type": "markdown",
      "metadata": {
        "id": "m8EH21DCtEs9"
      },
      "source": [
        "With the learned parameters, we construct a visual representation\n",
        "of the Hamiltonian to which they correspond and compare it to the\n",
        "true Hamiltonian, and the initial guessed Hamiltonian."
      ]
    },
    {
      "cell_type": "code",
      "metadata": {
        "colab": {
          "base_uri": "https://localhost:8080/"
        },
        "id": "0dZgqc_vs81V",
        "outputId": "ffa6c4c7-4f85-419b-fc30-3c2d047aed95"
      },
      "source": [
        "trained_weights = opt_params['x'][:len(initial_ising_graph.edges)]\n",
        "trained_bias = opt_params['x'][len(initial_ising_graph.edges):]\n",
        "\n",
        "weights.shape, bias.shape"
      ],
      "execution_count": 73,
      "outputs": [
        {
          "output_type": "execute_result",
          "data": {
            "text/plain": [
              "((6,), (4,))"
            ]
          },
          "metadata": {
            "tags": []
          },
          "execution_count": 73
        }
      ]
    },
    {
      "cell_type": "code",
      "metadata": {
        "colab": {
          "base_uri": "https://localhost:8080/",
          "height": 226
        },
        "id": "Xt1qjWCStMOK",
        "outputId": "fe49e13f-5c5d-4749-eb20-9ade15177188"
      },
      "source": [
        "H_matrix_trained = create_hamiltonian_matrix(\n",
        "    num_qubit, nx.complete_graph(num_qubit), trained_weights, trained_bias\n",
        ")\n",
        "\n",
        "H_matrix_initial = create_hamiltonian_matrix(\n",
        "    num_qubit, nx.complete_graph(num_qubit), initial_weights, initial_bias\n",
        ")\n",
        "\n",
        "fig, axes = plt.subplots(nrows=1, ncols=3, figsize=(6, 6))\n",
        "\n",
        "axes[0].matshow(H_matrix, vmin=-7, vmax=7, cmap=\"cool\")\n",
        "axes[0].set_title(\"Target\", y=1.13)\n",
        "\n",
        "axes[1].matshow(H_matrix_initial, vmin=-7, vmax=7, cmap=\"cool\")\n",
        "axes[1].set_title(\"Initial\", y=1.13)\n",
        "\n",
        "axes[2].matshow(H_matrix_trained, vmin=-7, vmax=7, cmap=\"cool\")\n",
        "axes[2].set_title(\"Learned\", y=1.13)\n",
        "\n",
        "plt.subplots_adjust(wspace=0.3, hspace=0.3)\n",
        "plt.show()"
      ],
      "execution_count": 74,
      "outputs": [
        {
          "output_type": "stream",
          "text": [
            "/usr/local/lib/python3.7/dist-packages/ipykernel_launcher.py:10: ComplexWarning: Casting complex values to real discards the imaginary part\n",
            "  # Remove the CWD from sys.path while we load stuff.\n",
            "/usr/local/lib/python3.7/dist-packages/ipykernel_launcher.py:20: ComplexWarning: Casting complex values to real discards the imaginary part\n",
            "/usr/local/lib/python3.7/dist-packages/ipykernel_launcher.py:21: ComplexWarning: Casting complex values to real discards the imaginary part\n"
          ],
          "name": "stderr"
        },
        {
          "output_type": "display_data",
          "data": {
            "image/png": "[encoded data removed]",
            "text/plain": [
              "<Figure size 432x432 with 3 Axes>"
            ]
          },
          "metadata": {
            "tags": [],
            "needs_background": "light"
          }
        }
      ]
    },
    {
      "cell_type": "code",
      "metadata": {
        "id": "Opw8joift7vM"
      },
      "source": [
        ""
      ],
      "execution_count": null,
      "outputs": []
    }
  ]
}