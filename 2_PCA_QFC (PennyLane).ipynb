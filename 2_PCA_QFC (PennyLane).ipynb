{
 "cells": [
  {
   "cell_type": "code",
   "execution_count": 1,
   "metadata": {
    "colab": {
     "base_uri": "https://localhost:8080/"
    },
    "executionInfo": {
     "elapsed": 21741,
     "status": "ok",
     "timestamp": 1609942401542,
     "user": {
      "displayName": "Eraraya Ricardo Muten",
      "photoUrl": "https://lh3.googleusercontent.com/a-/AOh14Ggpw7xw-lyk6u6l92QjpI7MlI7qjJuuciCpwrUd=s64",
      "userId": "03770692095188133952"
     },
     "user_tz": -420
    },
    "id": "e4abR9zSaWNk",
    "outputId": "94ee80ef-152f-452f-d852-06919b9942a4"
   },
   "outputs": [
    {
     "name": "stdout",
     "output_type": "stream",
     "text": [
      "/content/drive\n",
      "Mounted at /content/drive\n"
     ]
    }
   ],
   "source": [
    "# Mount Google Drive\n",
    "from google.colab import drive # import drive from google colab\n",
    " \n",
    "ROOT = \"/content/drive\"     # default location for the drive\n",
    "print(ROOT)                 # print content of ROOT (Optional)\n",
    " \n",
    "drive.mount(ROOT)           # we mount the google drive at /content/drive"
   ]
  },
  {
   "cell_type": "code",
   "execution_count": 1,
   "metadata": {
    "executionInfo": {
     "elapsed": 4192,
     "status": "ok",
     "timestamp": 1610025781584,
     "user": {
      "displayName": "Eraraya Ricardo Muten",
      "photoUrl": "https://lh3.googleusercontent.com/a-/AOh14Ggpw7xw-lyk6u6l92QjpI7MlI7qjJuuciCpwrUd=s64",
      "userId": "03770692095188133952"
     },
     "user_tz": -420
    },
    "id": "gk5AKGKcYGOo"
   },
   "outputs": [],
   "source": [
    "!pip install pennylane\n",
    "from IPython.display import clear_output\n",
    "clear_output()"
   ]
  },
  {
   "cell_type": "code",
   "execution_count": null,
   "metadata": {
    "id": "GigSJusGbx1b"
   },
   "outputs": [],
   "source": [
    "import os\n",
    "\n",
    "def restart_runtime():\n",
    "  os.kill(os.getpid(), 9)\n",
    "restart_runtime()"
   ]
  },
  {
   "cell_type": "code",
   "execution_count": 1,
   "metadata": {
    "executionInfo": {
     "elapsed": 857,
     "status": "ok",
     "timestamp": 1610025787385,
     "user": {
      "displayName": "Eraraya Ricardo Muten",
      "photoUrl": "https://lh3.googleusercontent.com/a-/AOh14Ggpw7xw-lyk6u6l92QjpI7MlI7qjJuuciCpwrUd=s64",
      "userId": "03770692095188133952"
     },
     "user_tz": -420
    },
    "id": "HoLmJLkIX810"
   },
   "outputs": [],
   "source": [
    "# %matplotlib inline\n",
    "import matplotlib.pyplot as plt\n",
    "from mpl_toolkits.axes_grid1 import make_axes_locatable\n",
    "\n",
    "import numpy as np\n",
    "import tensorflow as tf\n",
    "from tensorflow.keras.utils import to_categorical"
   ]
  },
  {
   "cell_type": "markdown",
   "metadata": {
    "id": "vZFNOwFXoY8N"
   },
   "source": [
    "# Loading Raw Data"
   ]
  },
  {
   "cell_type": "code",
   "execution_count": 2,
   "metadata": {
    "colab": {
     "base_uri": "https://localhost:8080/"
    },
    "executionInfo": {
     "elapsed": 2726,
     "status": "ok",
     "timestamp": 1610025792089,
     "user": {
      "displayName": "Eraraya Ricardo Muten",
      "photoUrl": "https://lh3.googleusercontent.com/a-/AOh14Ggpw7xw-lyk6u6l92QjpI7MlI7qjJuuciCpwrUd=s64",
      "userId": "03770692095188133952"
     },
     "user_tz": -420
    },
    "id": "IvdFsGCVof9g",
    "outputId": "c1e94fa1-a11f-4bff-c7b7-975b8b1b79fb"
   },
   "outputs": [],
   "source": [
    "(x_train, y_train), (x_test, y_test) = tf.keras.datasets.mnist.load_data()"
   ]
  },
  {
   "cell_type": "code",
   "execution_count": 3,
   "metadata": {
    "executionInfo": {
     "elapsed": 1251,
     "status": "ok",
     "timestamp": 1610025792677,
     "user": {
      "displayName": "Eraraya Ricardo Muten",
      "photoUrl": "https://lh3.googleusercontent.com/a-/AOh14Ggpw7xw-lyk6u6l92QjpI7MlI7qjJuuciCpwrUd=s64",
      "userId": "03770692095188133952"
     },
     "user_tz": -420
    },
    "id": "c6zvGFvIoxAN"
   },
   "outputs": [],
   "source": [
    "x_train_flatten = x_train.reshape(x_train.shape[0], x_train.shape[1]*x_train.shape[2])/255.0\n",
    "x_test_flatten = x_test.reshape(x_test.shape[0], x_test.shape[1]*x_test.shape[2])/255.0"
   ]
  },
  {
   "cell_type": "code",
   "execution_count": 4,
   "metadata": {
    "colab": {
     "base_uri": "https://localhost:8080/"
    },
    "executionInfo": {
     "elapsed": 948,
     "status": "ok",
     "timestamp": 1610025792678,
     "user": {
      "displayName": "Eraraya Ricardo Muten",
      "photoUrl": "https://lh3.googleusercontent.com/a-/AOh14Ggpw7xw-lyk6u6l92QjpI7MlI7qjJuuciCpwrUd=s64",
      "userId": "03770692095188133952"
     },
     "user_tz": -420
    },
    "id": "Rmj1dzaso00h",
    "outputId": "f59eea77-95bb-4b6a-b0ba-14a7e5760b11"
   },
   "outputs": [
    {
     "name": "stdout",
     "output_type": "stream",
     "text": [
      "(60000, 784) (60000,)\n",
      "(10000, 784) (10000,)\n"
     ]
    }
   ],
   "source": [
    "print(x_train_flatten.shape, y_train.shape)\n",
    "print(x_test_flatten.shape, y_test.shape)"
   ]
  },
  {
   "cell_type": "code",
   "execution_count": 5,
   "metadata": {
    "colab": {
     "base_uri": "https://localhost:8080/"
    },
    "executionInfo": {
     "elapsed": 945,
     "status": "ok",
     "timestamp": 1610025793507,
     "user": {
      "displayName": "Eraraya Ricardo Muten",
      "photoUrl": "https://lh3.googleusercontent.com/a-/AOh14Ggpw7xw-lyk6u6l92QjpI7MlI7qjJuuciCpwrUd=s64",
      "userId": "03770692095188133952"
     },
     "user_tz": -420
    },
    "id": "d10VoIC6o5_I",
    "outputId": "774bafb6-5cbe-42b3-98d0-643e7e943f91"
   },
   "outputs": [
    {
     "name": "stdout",
     "output_type": "stream",
     "text": [
      "(5923, 784)\n",
      "(6742, 784)\n",
      "(5958, 784)\n",
      "(6131, 784)\n",
      "(5842, 784)\n",
      "(5421, 784)\n",
      "(5918, 784)\n",
      "(6265, 784)\n",
      "(5851, 784)\n",
      "(5949, 784)\n"
     ]
    }
   ],
   "source": [
    "x_train_0 = x_train_flatten[y_train == 0]\n",
    "x_train_1 = x_train_flatten[y_train == 1]\n",
    "x_train_2 = x_train_flatten[y_train == 2]\n",
    "x_train_3 = x_train_flatten[y_train == 3]\n",
    "x_train_4 = x_train_flatten[y_train == 4]\n",
    "x_train_5 = x_train_flatten[y_train == 5]\n",
    "x_train_6 = x_train_flatten[y_train == 6]\n",
    "x_train_7 = x_train_flatten[y_train == 7]\n",
    "x_train_8 = x_train_flatten[y_train == 8]\n",
    "x_train_9 = x_train_flatten[y_train == 9]\n",
    "\n",
    "x_train_list = [x_train_0, x_train_1, x_train_2, x_train_3, x_train_4, x_train_5, x_train_6, x_train_7, x_train_8, x_train_9]\n",
    "\n",
    "print(x_train_0.shape)\n",
    "print(x_train_1.shape)\n",
    "print(x_train_2.shape)\n",
    "print(x_train_3.shape)\n",
    "print(x_train_4.shape)\n",
    "print(x_train_5.shape)\n",
    "print(x_train_6.shape)\n",
    "print(x_train_7.shape)\n",
    "print(x_train_8.shape)\n",
    "print(x_train_9.shape)"
   ]
  },
  {
   "cell_type": "code",
   "execution_count": 6,
   "metadata": {
    "colab": {
     "base_uri": "https://localhost:8080/"
    },
    "executionInfo": {
     "elapsed": 901,
     "status": "ok",
     "timestamp": 1610025796926,
     "user": {
      "displayName": "Eraraya Ricardo Muten",
      "photoUrl": "https://lh3.googleusercontent.com/a-/AOh14Ggpw7xw-lyk6u6l92QjpI7MlI7qjJuuciCpwrUd=s64",
      "userId": "03770692095188133952"
     },
     "user_tz": -420
    },
    "id": "snFw4LqepFOl",
    "outputId": "d62bdedd-8ad4-4da9-c7e8-75b8a0a9ba7b"
   },
   "outputs": [
    {
     "name": "stdout",
     "output_type": "stream",
     "text": [
      "(980, 784)\n",
      "(1135, 784)\n",
      "(1032, 784)\n",
      "(1010, 784)\n",
      "(982, 784)\n",
      "(892, 784)\n",
      "(958, 784)\n",
      "(1028, 784)\n",
      "(974, 784)\n",
      "(1009, 784)\n"
     ]
    }
   ],
   "source": [
    "x_test_0 = x_test_flatten[y_test == 0]\n",
    "x_test_1 = x_test_flatten[y_test == 1]\n",
    "x_test_2 = x_test_flatten[y_test == 2]\n",
    "x_test_3 = x_test_flatten[y_test == 3]\n",
    "x_test_4 = x_test_flatten[y_test == 4]\n",
    "x_test_5 = x_test_flatten[y_test == 5]\n",
    "x_test_6 = x_test_flatten[y_test == 6]\n",
    "x_test_7 = x_test_flatten[y_test == 7]\n",
    "x_test_8 = x_test_flatten[y_test == 8]\n",
    "x_test_9 = x_test_flatten[y_test == 9]\n",
    "\n",
    "x_test_list = [x_test_0, x_test_1, x_test_2, x_test_3, x_test_4, x_test_5, x_test_6, x_test_7, x_test_8, x_test_9]\n",
    "\n",
    "print(x_test_0.shape)\n",
    "print(x_test_1.shape)\n",
    "print(x_test_2.shape)\n",
    "print(x_test_3.shape)\n",
    "print(x_test_4.shape)\n",
    "print(x_test_5.shape)\n",
    "print(x_test_6.shape)\n",
    "print(x_test_7.shape)\n",
    "print(x_test_8.shape)\n",
    "print(x_test_9.shape)"
   ]
  },
  {
   "cell_type": "markdown",
   "metadata": {
    "id": "SAxUS6Lhp95g"
   },
   "source": [
    "# Selecting the dataset\n",
    "\n",
    "Output: X_train, Y_train, X_test, Y_test"
   ]
  },
  {
   "cell_type": "code",
   "execution_count": 7,
   "metadata": {
    "colab": {
     "base_uri": "https://localhost:8080/"
    },
    "executionInfo": {
     "elapsed": 881,
     "status": "ok",
     "timestamp": 1610032449016,
     "user": {
      "displayName": "Eraraya Ricardo Muten",
      "photoUrl": "https://lh3.googleusercontent.com/a-/AOh14Ggpw7xw-lyk6u6l92QjpI7MlI7qjJuuciCpwrUd=s64",
      "userId": "03770692095188133952"
     },
     "user_tz": -420
    },
    "id": "4Nr0gmM9DFd_",
    "outputId": "d4120711-a864-4d5a-aef1-2c9ab9e4078c"
   },
   "outputs": [
    {
     "name": "stdout",
     "output_type": "stream",
     "text": [
      "(400, 784) (400,)\n",
      "(1000, 784) (1000,)\n"
     ]
    }
   ],
   "source": [
    "num_sample = 200\n",
    "n_class = 2\n",
    "mult_test = 2.5\n",
    "\n",
    "X_train = x_train_list[0][:num_sample, :]\n",
    "X_test = x_test_list[0][:int(mult_test*num_sample), :]\n",
    "\n",
    "Y_train = np.zeros((n_class*X_train.shape[0],), dtype=int)\n",
    "Y_test = np.zeros((n_class*X_test.shape[0],), dtype=int)\n",
    "\n",
    "for i in range(n_class-1):\n",
    "  X_train = np.concatenate((X_train, x_train_list[i+1][:num_sample, :]), axis=0)\n",
    "  Y_train[num_sample*(i+1):num_sample*(i+2)] = int(i+1)\n",
    "\n",
    "  X_test = np.concatenate((X_test, x_test_list[i+1][:int(mult_test*num_sample), :]), axis=0)\n",
    "  Y_test[int(mult_test*num_sample*(i+1)):int(mult_test*num_sample*(i+2))] = int(i+1)\n",
    "\n",
    "print(X_train.shape, Y_train.shape)\n",
    "print(X_test.shape, Y_test.shape)"
   ]
  },
  {
   "cell_type": "markdown",
   "metadata": {
    "id": "F_4AcCtNsC8o"
   },
   "source": [
    "# Dataset Preprocessing (Standardization + PCA)"
   ]
  },
  {
   "cell_type": "markdown",
   "metadata": {
    "id": "QP-6XdVPsfxC"
   },
   "source": [
    "## Standardization"
   ]
  },
  {
   "cell_type": "code",
   "execution_count": 8,
   "metadata": {
    "executionInfo": {
     "elapsed": 997,
     "status": "ok",
     "timestamp": 1610032452310,
     "user": {
      "displayName": "Eraraya Ricardo Muten",
      "photoUrl": "https://lh3.googleusercontent.com/a-/AOh14Ggpw7xw-lyk6u6l92QjpI7MlI7qjJuuciCpwrUd=s64",
      "userId": "03770692095188133952"
     },
     "user_tz": -420
    },
    "id": "EDtzCvTur6BR"
   },
   "outputs": [],
   "source": [
    "def normalize(X, use_params=False, params=None):\n",
    "    \"\"\"Normalize the given dataset X\n",
    "    Args:\n",
    "        X: ndarray, dataset\n",
    "    \n",
    "    Returns:\n",
    "        (Xbar, mean, std): tuple of ndarray, Xbar is the normalized dataset\n",
    "        with mean 0 and standard deviation 1; mean and std are the \n",
    "        mean and standard deviation respectively.\n",
    "    \n",
    "    Note:\n",
    "        You will encounter dimensions where the standard deviation is\n",
    "        zero, for those when you do normalization the normalized data\n",
    "        will be NaN. Handle this by setting using `std = 1` for those \n",
    "        dimensions when doing normalization.\n",
    "    \"\"\"\n",
    "    if use_params:\n",
    "        mu = params[0]\n",
    "        std_filled = [1]\n",
    "    else:\n",
    "        mu = np.mean(X, axis=0)\n",
    "        std = np.std(X, axis=0)\n",
    "        #std_filled = std.copy()\n",
    "    #std_filled[std==0] = 1.\n",
    "    Xbar = (X - mu)/(std + 1e-8)\n",
    "    return Xbar, mu, std\n"
   ]
  },
  {
   "cell_type": "code",
   "execution_count": 9,
   "metadata": {
    "colab": {
     "base_uri": "https://localhost:8080/"
    },
    "executionInfo": {
     "elapsed": 1011,
     "status": "ok",
     "timestamp": 1610032453516,
     "user": {
      "displayName": "Eraraya Ricardo Muten",
      "photoUrl": "https://lh3.googleusercontent.com/a-/AOh14Ggpw7xw-lyk6u6l92QjpI7MlI7qjJuuciCpwrUd=s64",
      "userId": "03770692095188133952"
     },
     "user_tz": -420
    },
    "id": "Ma2r_EXQsHYJ",
    "outputId": "b3d76c69-3ad5-43e6-a310-1e5c02554fd4"
   },
   "outputs": [
    {
     "data": {
      "text/plain": [
       "((400, 784), (400,))"
      ]
     },
     "execution_count": 9,
     "metadata": {},
     "output_type": "execute_result"
    }
   ],
   "source": [
    "X_train, mu_train, std_train = normalize(X_train)\n",
    "X_train.shape, Y_train.shape"
   ]
  },
  {
   "cell_type": "code",
   "execution_count": 10,
   "metadata": {
    "colab": {
     "base_uri": "https://localhost:8080/"
    },
    "executionInfo": {
     "elapsed": 762,
     "status": "ok",
     "timestamp": 1610032453517,
     "user": {
      "displayName": "Eraraya Ricardo Muten",
      "photoUrl": "https://lh3.googleusercontent.com/a-/AOh14Ggpw7xw-lyk6u6l92QjpI7MlI7qjJuuciCpwrUd=s64",
      "userId": "03770692095188133952"
     },
     "user_tz": -420
    },
    "id": "p8DrXKvutdFL",
    "outputId": "2c6e20b3-c4a7-46e1-c92b-2e4d3fbecc91"
   },
   "outputs": [
    {
     "data": {
      "text/plain": [
       "((1000, 784), (1000,))"
      ]
     },
     "execution_count": 10,
     "metadata": {},
     "output_type": "execute_result"
    }
   ],
   "source": [
    "X_test = (X_test - mu_train)/(std_train + 1e-8)\n",
    "X_test.shape, Y_test.shape"
   ]
  },
  {
   "cell_type": "markdown",
   "metadata": {
    "id": "BwikC3mysh4L"
   },
   "source": [
    "## PCA"
   ]
  },
  {
   "cell_type": "code",
   "execution_count": 11,
   "metadata": {
    "executionInfo": {
     "elapsed": 781,
     "status": "ok",
     "timestamp": 1610032456319,
     "user": {
      "displayName": "Eraraya Ricardo Muten",
      "photoUrl": "https://lh3.googleusercontent.com/a-/AOh14Ggpw7xw-lyk6u6l92QjpI7MlI7qjJuuciCpwrUd=s64",
      "userId": "03770692095188133952"
     },
     "user_tz": -420
    },
    "id": "0AHFK0_lsdzh"
   },
   "outputs": [],
   "source": [
    "from sklearn.decomposition import PCA\n",
    "from matplotlib import pyplot as plt"
   ]
  },
  {
   "cell_type": "code",
   "execution_count": 12,
   "metadata": {
    "executionInfo": {
     "elapsed": 955,
     "status": "ok",
     "timestamp": 1610032457668,
     "user": {
      "displayName": "Eraraya Ricardo Muten",
      "photoUrl": "https://lh3.googleusercontent.com/a-/AOh14Ggpw7xw-lyk6u6l92QjpI7MlI7qjJuuciCpwrUd=s64",
      "userId": "03770692095188133952"
     },
     "user_tz": -420
    },
    "id": "CzdxRenYstM_"
   },
   "outputs": [],
   "source": [
    "num_component = 6\n",
    "pca = PCA(n_components=num_component, svd_solver='full')"
   ]
  },
  {
   "cell_type": "code",
   "execution_count": 13,
   "metadata": {
    "colab": {
     "base_uri": "https://localhost:8080/"
    },
    "executionInfo": {
     "elapsed": 1032,
     "status": "ok",
     "timestamp": 1610032458038,
     "user": {
      "displayName": "Eraraya Ricardo Muten",
      "photoUrl": "https://lh3.googleusercontent.com/a-/AOh14Ggpw7xw-lyk6u6l92QjpI7MlI7qjJuuciCpwrUd=s64",
      "userId": "03770692095188133952"
     },
     "user_tz": -420
    },
    "id": "qUHn6-Zvsz2X",
    "outputId": "7683cee8-5d52-490f-ad67-b0fda8c3dec3"
   },
   "outputs": [
    {
     "data": {
      "text/plain": [
       "PCA(n_components=6, svd_solver='full')"
      ]
     },
     "execution_count": 13,
     "metadata": {},
     "output_type": "execute_result"
    }
   ],
   "source": [
    "pca.fit(X_train)"
   ]
  },
  {
   "cell_type": "code",
   "execution_count": 14,
   "metadata": {
    "colab": {
     "base_uri": "https://localhost:8080/"
    },
    "executionInfo": {
     "elapsed": 705,
     "status": "ok",
     "timestamp": 1610032458857,
     "user": {
      "displayName": "Eraraya Ricardo Muten",
      "photoUrl": "https://lh3.googleusercontent.com/a-/AOh14Ggpw7xw-lyk6u6l92QjpI7MlI7qjJuuciCpwrUd=s64",
      "userId": "03770692095188133952"
     },
     "user_tz": -420
    },
    "id": "dyj975-ttIbe",
    "outputId": "99bd5a6a-53f0-4a1b-934d-0e397aff3d99"
   },
   "outputs": [
    {
     "data": {
      "text/plain": [
       "array([0.21719476, 0.32237275, 0.37662654, 0.42807777, 0.46964521,\n",
       "       0.50021544])"
      ]
     },
     "execution_count": 14,
     "metadata": {},
     "output_type": "execute_result"
    }
   ],
   "source": [
    "np.cumsum(pca.explained_variance_ratio_)"
   ]
  },
  {
   "cell_type": "code",
   "execution_count": 15,
   "metadata": {
    "executionInfo": {
     "elapsed": 836,
     "status": "ok",
     "timestamp": 1610032460743,
     "user": {
      "displayName": "Eraraya Ricardo Muten",
      "photoUrl": "https://lh3.googleusercontent.com/a-/AOh14Ggpw7xw-lyk6u6l92QjpI7MlI7qjJuuciCpwrUd=s64",
      "userId": "03770692095188133952"
     },
     "user_tz": -420
    },
    "id": "g2Cv6r9utNKg"
   },
   "outputs": [],
   "source": [
    "X_train = pca.transform(X_train)\n",
    "X_test = pca.transform(X_test)"
   ]
  },
  {
   "cell_type": "code",
   "execution_count": 16,
   "metadata": {
    "colab": {
     "base_uri": "https://localhost:8080/"
    },
    "executionInfo": {
     "elapsed": 1345,
     "status": "ok",
     "timestamp": 1610032461574,
     "user": {
      "displayName": "Eraraya Ricardo Muten",
      "photoUrl": "https://lh3.googleusercontent.com/a-/AOh14Ggpw7xw-lyk6u6l92QjpI7MlI7qjJuuciCpwrUd=s64",
      "userId": "03770692095188133952"
     },
     "user_tz": -420
    },
    "id": "ahC8V_QzuDzV",
    "outputId": "f386544f-fbaa-461e-f8de-161b1618e189"
   },
   "outputs": [
    {
     "name": "stdout",
     "output_type": "stream",
     "text": [
      "(400, 6) (400,)\n",
      "(1000, 6) (1000,)\n"
     ]
    }
   ],
   "source": [
    "print(X_train.shape, Y_train.shape)\n",
    "print(X_test.shape, Y_test.shape)"
   ]
  },
  {
   "cell_type": "markdown",
   "metadata": {
    "id": "CoGE5F_Gc7Bp"
   },
   "source": [
    "## Norm"
   ]
  },
  {
   "cell_type": "code",
   "execution_count": 17,
   "metadata": {
    "executionInfo": {
     "elapsed": 1222,
     "status": "ok",
     "timestamp": 1610032463633,
     "user": {
      "displayName": "Eraraya Ricardo Muten",
      "photoUrl": "https://lh3.googleusercontent.com/a-/AOh14Ggpw7xw-lyk6u6l92QjpI7MlI7qjJuuciCpwrUd=s64",
      "userId": "03770692095188133952"
     },
     "user_tz": -420
    },
    "id": "00-l6454QeXB"
   },
   "outputs": [],
   "source": [
    "X_train = (X_train.T / np.sqrt(np.sum(X_train ** 2, -1))).T\n",
    "X_test = (X_test.T / np.sqrt(np.sum(X_test ** 2, -1))).T"
   ]
  },
  {
   "cell_type": "code",
   "execution_count": 18,
   "metadata": {
    "colab": {
     "base_uri": "https://localhost:8080/",
     "height": 284
    },
    "executionInfo": {
     "elapsed": 1028,
     "status": "ok",
     "timestamp": 1610032463633,
     "user": {
      "displayName": "Eraraya Ricardo Muten",
      "photoUrl": "https://lh3.googleusercontent.com/a-/AOh14Ggpw7xw-lyk6u6l92QjpI7MlI7qjJuuciCpwrUd=s64",
      "userId": "03770692095188133952"
     },
     "user_tz": -420
    },
    "id": "voxkEj1BuJB6",
    "outputId": "c856385b-f64d-41c1-a0aa-402d1910420c"
   },
   "outputs": [
    {
     "data": {
      "text/plain": [
       "<matplotlib.collections.PathCollection at 0x7faf123b4760>"
      ]
     },
     "execution_count": 18,
     "metadata": {},
     "output_type": "execute_result"
    },
    {
     "data": {
      "image/png": "[encoded data removed]",
      "text/plain": [
       "<Figure size 432x288 with 1 Axes>"
      ]
     },
     "metadata": {
      "needs_background": "light"
     },
     "output_type": "display_data"
    }
   ],
   "source": [
    "plt.scatter(X_train[:100, 0], X_train[:100, 1])\n",
    "plt.scatter(X_train[100:200, 0], X_train[100:200, 1])\n",
    "plt.scatter(X_train[200:300, 0], X_train[200:300, 1])"
   ]
  },
  {
   "cell_type": "markdown",
   "metadata": {
    "id": "ytKzDR1JuKub"
   },
   "source": [
    "# Quantum"
   ]
  },
  {
   "cell_type": "code",
   "execution_count": 19,
   "metadata": {
    "executionInfo": {
     "elapsed": 885,
     "status": "ok",
     "timestamp": 1610032467269,
     "user": {
      "displayName": "Eraraya Ricardo Muten",
      "photoUrl": "https://lh3.googleusercontent.com/a-/AOh14Ggpw7xw-lyk6u6l92QjpI7MlI7qjJuuciCpwrUd=s64",
      "userId": "03770692095188133952"
     },
     "user_tz": -420
    },
    "id": "J8PDpZ5IuM0l"
   },
   "outputs": [],
   "source": [
    "import pennylane as qml\n",
    "from pennylane import numpy as np\n",
    "from pennylane.optimize import AdamOptimizer, GradientDescentOptimizer\n",
    "\n",
    "qml.enable_tape()\n",
    "\n",
    "\n",
    "# Set a random seed\n",
    "np.random.seed(42)"
   ]
  },
  {
   "cell_type": "code",
   "execution_count": 20,
   "metadata": {
    "executionInfo": {
     "elapsed": 958,
     "status": "ok",
     "timestamp": 1610047167417,
     "user": {
      "displayName": "Eraraya Ricardo Muten",
      "photoUrl": "https://lh3.googleusercontent.com/a-/AOh14Ggpw7xw-lyk6u6l92QjpI7MlI7qjJuuciCpwrUd=s64",
      "userId": "03770692095188133952"
     },
     "user_tz": -420
    },
    "id": "UvNlkVfXFyHE"
   },
   "outputs": [],
   "source": [
    "# Define output labels as quantum state vectors\n",
    "\n",
    "# def density_matrix(state):\n",
    "#     \"\"\"Calculates the density matrix representation of a state.\n",
    "\n",
    "#     Args:\n",
    "#         state (array[complex]): array representing a quantum state vector\n",
    "\n",
    "#     Returns:\n",
    "#         dm: (array[complex]): array representing the density matrix\n",
    "#     \"\"\"\n",
    "#     return state * np.conj(state).T\n",
    "\n",
    "\n",
    "label_0 = [[1], [0]]\n",
    "label_1 = [[0], [1]]\n",
    "\n",
    "\n",
    "def density_matrix(state):\n",
    "    \"\"\"Calculates the density matrix representation of a state.\n",
    "\n",
    "    Args:\n",
    "        state (array[complex]): array representing a quantum state vector\n",
    "\n",
    "    Returns:\n",
    "        dm: (array[complex]): array representing the density matrix\n",
    "    \"\"\"\n",
    "    return np.outer(state,  np.conj(state))\n",
    "\n",
    "state_labels = [label_0, label_1]\n",
    "#state_labels = np.loadtxt('./tetra_states.txt', dtype=np.complex_)"
   ]
  },
  {
   "cell_type": "code",
   "execution_count": 21,
   "metadata": {},
   "outputs": [
    {
     "data": {
      "text/plain": [
       "2"
      ]
     },
     "execution_count": 21,
     "metadata": {},
     "output_type": "execute_result"
    }
   ],
   "source": [
    "dm_labels = [density_matrix(state_labels[i]) for i in range(2)]\n",
    "len(dm_labels)"
   ]
  },
  {
   "cell_type": "code",
   "execution_count": 22,
   "metadata": {},
   "outputs": [
    {
     "data": {
      "text/plain": [
       "[tensor([[1, 0],\n",
       "         [0, 0]], requires_grad=True),\n",
       " tensor([[0, 0],\n",
       "         [0, 1]], requires_grad=True)]"
      ]
     },
     "execution_count": 22,
     "metadata": {},
     "output_type": "execute_result"
    }
   ],
   "source": [
    "dm_labels"
   ]
  },
  {
   "cell_type": "code",
   "execution_count": 23,
   "metadata": {
    "executionInfo": {
     "elapsed": 1193,
     "status": "ok",
     "timestamp": 1610047167914,
     "user": {
      "displayName": "Eraraya Ricardo Muten",
      "photoUrl": "https://lh3.googleusercontent.com/a-/AOh14Ggpw7xw-lyk6u6l92QjpI7MlI7qjJuuciCpwrUd=s64",
      "userId": "03770692095188133952"
     },
     "user_tz": -420
    },
    "id": "2WqqMVHbF2B8"
   },
   "outputs": [],
   "source": [
    "n_qubits = 2  # number of class\n",
    "dev_fc = qml.device(\"default.qubit\", wires=n_qubits)\n",
    "\n",
    "\n",
    "@qml.qnode(dev_fc)\n",
    "def q_fc(params, inputs):\n",
    "    \"\"\"A variational quantum circuit representing the DRC.\n",
    "\n",
    "    Args:\n",
    "        params (array[float]): array of parameters\n",
    "        inputs = [x, y]\n",
    "        x (array[float]): 1-d input vector\n",
    "        y (array[float]): single output state density matrix\n",
    "\n",
    "    Returns:\n",
    "        float: fidelity between output state and input\n",
    "    \"\"\"\n",
    "    \n",
    "    # layer iteration\n",
    "    for l in range(len(params[0])):\n",
    "        # qubit iteration\n",
    "        for q in range(n_qubits):\n",
    "            # gate iteration\n",
    "            for g in range(int(len(inputs)/3)):\n",
    "                qml.Rot(*(params[0][l][3*g:3*(g+1)] * inputs[3*g:3*(g+1)] + params[1][l][3*g:3*(g+1)]), wires=q)\n",
    "    \n",
    "    return [qml.expval(qml.Hermitian(dm_labels[i], wires=[i])) for i in range(n_qubits)]\n"
   ]
  },
  {
   "cell_type": "code",
   "execution_count": 24,
   "metadata": {},
   "outputs": [
    {
     "data": {
      "text/plain": [
       "(6,)"
      ]
     },
     "execution_count": 24,
     "metadata": {},
     "output_type": "execute_result"
    }
   ],
   "source": [
    "X_train[0].shape"
   ]
  },
  {
   "cell_type": "code",
   "execution_count": 25,
   "metadata": {},
   "outputs": [
    {
     "data": {
      "text/plain": [
       "tensor([0.95765472, 0.04234528], requires_grad=True)"
      ]
     },
     "execution_count": 25,
     "metadata": {},
     "output_type": "execute_result"
    }
   ],
   "source": [
    "a = np.random.uniform(size=(2, 1, 6))\n",
    "\n",
    "q_fc(a, X_train[0])"
   ]
  },
  {
   "cell_type": "code",
   "execution_count": 26,
   "metadata": {},
   "outputs": [],
   "source": [
    "tetra_class = np.loadtxt('./tetra_class_label.txt')\n",
    "binary_class = np.array([[1, 0], [0, 1]])"
   ]
  },
  {
   "cell_type": "code",
   "execution_count": 27,
   "metadata": {},
   "outputs": [],
   "source": [
    "class_labels = binary_class"
   ]
  },
  {
   "cell_type": "code",
   "execution_count": 28,
   "metadata": {},
   "outputs": [],
   "source": [
    "n_class = 2\n",
    "\n",
    "temp = np.zeros((len(Y_train), n_class))\n",
    "for i in range(len(Y_train)):\n",
    "    temp[i, :] = class_labels[Y_train[i]]\n",
    "Y_train = temp\n",
    "\n",
    "\n",
    "temp = np.zeros((len(Y_test), n_class))\n",
    "for i in range(len(Y_test)):\n",
    "    temp[i, :] = class_labels[Y_test[i]]\n",
    "Y_test = temp"
   ]
  },
  {
   "cell_type": "code",
   "execution_count": 29,
   "metadata": {},
   "outputs": [
    {
     "data": {
      "text/plain": [
       "((400, 2), (1000, 2))"
      ]
     },
     "execution_count": 29,
     "metadata": {},
     "output_type": "execute_result"
    }
   ],
   "source": [
    "Y_train.shape, Y_test.shape"
   ]
  },
  {
   "cell_type": "code",
   "execution_count": 30,
   "metadata": {},
   "outputs": [],
   "source": [
    "from keras import backend as K\n",
    "\n",
    "\n",
    "# Alpha Custom Layer\n",
    "class class_weights(tf.keras.layers.Layer):\n",
    "    def __init__(self):\n",
    "        super(class_weights, self).__init__()\n",
    "        w_init = tf.random_normal_initializer()\n",
    "        self.w = tf.Variable(\n",
    "            initial_value=w_init(shape=(1, 2), dtype=\"float32\"),\n",
    "            trainable=True,\n",
    "        )\n",
    "\n",
    "    def call(self, inputs):\n",
    "        return (inputs * self.w)"
   ]
  },
  {
   "cell_type": "code",
   "execution_count": 50,
   "metadata": {
    "id": "epPDK5i9hOGH"
   },
   "outputs": [],
   "source": [
    "n_component = 6\n",
    "\n",
    "X = tf.keras.Input(shape=(n_component,), name='Input_Layer')\n",
    "\n",
    "\n",
    "# Quantum FC Layer, trainable params = 18*L*n_class + 2, output size = 2\n",
    "num_fc_layer = 3\n",
    "q_fc_layer_0 = qml.qnn.KerasLayer(q_fc, {\"params\": (2, num_fc_layer, n_component)}, output_dim=2)(X)\n",
    "\n",
    "# Alpha Layer\n",
    "alpha_layer_0 = class_weights()(q_fc_layer_0)\n",
    "\n",
    "model = tf.keras.Model(inputs=X, outputs=alpha_layer_0)"
   ]
  },
  {
   "cell_type": "code",
   "execution_count": 51,
   "metadata": {
    "id": "u1ozqS33W66k"
   },
   "outputs": [
    {
     "data": {
      "text/plain": [
       "<tf.Tensor: shape=(32, 2), dtype=float32, numpy=\n",
       "array([[-1.33763393e-02,  3.50925082e-04],\n",
       "       [-1.32914530e-02,  5.47322619e-04],\n",
       "       [-1.30462740e-02,  1.11458846e-03],\n",
       "       [-1.30624818e-02,  1.07708911e-03],\n",
       "       [-1.32497204e-02,  6.43879175e-04],\n",
       "       [-1.16838515e-02,  4.26679151e-03],\n",
       "       [-1.33319041e-02,  4.53733810e-04],\n",
       "       [-9.18904133e-03,  1.00389728e-02],\n",
       "       [-1.32597843e-02,  6.20594248e-04],\n",
       "       [-1.33974561e-02,  3.02067085e-04],\n",
       "       [-1.33080967e-02,  5.08815108e-04],\n",
       "       [-1.23578012e-02,  2.70749209e-03],\n",
       "       [-1.33336866e-02,  4.49610176e-04],\n",
       "       [-9.22928564e-03,  9.94586013e-03],\n",
       "       [-1.20637408e-02,  3.38785117e-03],\n",
       "       [-1.34249544e-02,  2.38444743e-04],\n",
       "       [-1.30298166e-02,  1.15266675e-03],\n",
       "       [-1.14502488e-02,  4.80727199e-03],\n",
       "       [-1.24558993e-02,  2.48052296e-03],\n",
       "       [-1.32576432e-02,  6.25548884e-04],\n",
       "       [-1.34323612e-02,  2.21309048e-04],\n",
       "       [-1.20103480e-02,  3.51138506e-03],\n",
       "       [-1.13072954e-02,  5.13802050e-03],\n",
       "       [-1.31266145e-02,  9.28705442e-04],\n",
       "       [-1.30918222e-02,  1.00920384e-03],\n",
       "       [-1.06265936e-02,  6.71294145e-03],\n",
       "       [-1.33795524e-02,  3.43491440e-04],\n",
       "       [-1.34970136e-02,  7.17251023e-05],\n",
       "       [-9.27646644e-03,  9.83669888e-03],\n",
       "       [-1.03394538e-02,  7.37728924e-03],\n",
       "       [-1.06791230e-02,  6.59140758e-03],\n",
       "       [-1.20210368e-02,  3.48665426e-03]], dtype=float32)>"
      ]
     },
     "execution_count": 51,
     "metadata": {},
     "output_type": "execute_result"
    }
   ],
   "source": [
    "model(X_train[0:32])"
   ]
  },
  {
   "cell_type": "code",
   "execution_count": 52,
   "metadata": {
    "id": "YE2m-zLeNVWD"
   },
   "outputs": [],
   "source": [
    "opt = tf.keras.optimizers.Adam(learning_rate=0.1)\n",
    "model.compile(opt, loss='mse', metrics=[\"accuracy\"])"
   ]
  },
  {
   "cell_type": "code",
   "execution_count": 46,
   "metadata": {},
   "outputs": [],
   "source": [
    "filepath = \"./Model_2/2_PCA_QFC_saved-model-{epoch:02d}.hdf5\"\n",
    "checkpoint = tf.keras.callbacks.ModelCheckpoint(filepath, monitor='val_acc', verbose=1,\n",
    "                                                save_weights_only=True, save_best_only=False, mode='auto')"
   ]
  },
  {
   "cell_type": "code",
   "execution_count": 47,
   "metadata": {},
   "outputs": [
    {
     "name": "stdout",
     "output_type": "stream",
     "text": [
      "Epoch 1/10\n",
      "13/13 [==============================] - 82s 6s/step - loss: 0.3463 - accuracy: 0.6203 - val_loss: 0.0253 - val_accuracy: 0.9890\n",
      "\n",
      "Epoch 00001: saving model to ./Model_2/2_PCA_QFC_saved-model-01.hdf5\n",
      "Epoch 2/10\n",
      "13/13 [==============================] - 84s 7s/step - loss: 0.0340 - accuracy: 0.9936 - val_loss: 0.0273 - val_accuracy: 0.9930\n",
      "\n",
      "Epoch 00002: saving model to ./Model_2/2_PCA_QFC_saved-model-02.hdf5\n",
      "Epoch 3/10\n",
      "13/13 [==============================] - 83s 6s/step - loss: 0.0225 - accuracy: 0.9902 - val_loss: 0.0129 - val_accuracy: 0.9950\n",
      "\n",
      "Epoch 00003: saving model to ./Model_2/2_PCA_QFC_saved-model-03.hdf5\n",
      "Epoch 4/10\n",
      "13/13 [==============================] - 83s 6s/step - loss: 0.0159 - accuracy: 0.9919 - val_loss: 0.0121 - val_accuracy: 0.9940\n",
      "\n",
      "Epoch 00004: saving model to ./Model_2/2_PCA_QFC_saved-model-04.hdf5\n",
      "Epoch 5/10\n",
      "13/13 [==============================] - 81s 6s/step - loss: 0.0090 - accuracy: 0.9949 - val_loss: 0.0076 - val_accuracy: 0.9940\n",
      "\n",
      "Epoch 00005: saving model to ./Model_2/2_PCA_QFC_saved-model-05.hdf5\n",
      "Epoch 6/10\n",
      "13/13 [==============================] - 81s 6s/step - loss: 0.0110 - accuracy: 0.9869 - val_loss: 0.0069 - val_accuracy: 0.9940\n",
      "\n",
      "Epoch 00006: saving model to ./Model_2/2_PCA_QFC_saved-model-06.hdf5\n",
      "Epoch 7/10\n",
      "13/13 [==============================] - 83s 6s/step - loss: 0.0059 - accuracy: 0.9970 - val_loss: 0.0055 - val_accuracy: 0.9950\n",
      "\n",
      "Epoch 00007: saving model to ./Model_2/2_PCA_QFC_saved-model-07.hdf5\n",
      "Epoch 8/10\n",
      "13/13 [==============================] - 84s 7s/step - loss: 0.0058 - accuracy: 0.9963 - val_loss: 0.0061 - val_accuracy: 0.9930\n",
      "\n",
      "Epoch 00008: saving model to ./Model_2/2_PCA_QFC_saved-model-08.hdf5\n",
      "Epoch 9/10\n",
      "13/13 [==============================] - 84s 7s/step - loss: 0.0086 - accuracy: 0.9949 - val_loss: 0.0053 - val_accuracy: 0.9960\n",
      "\n",
      "Epoch 00009: saving model to ./Model_2/2_PCA_QFC_saved-model-09.hdf5\n",
      "Epoch 10/10\n",
      "13/13 [==============================] - 83s 6s/step - loss: 0.0080 - accuracy: 0.9899 - val_loss: 0.0040 - val_accuracy: 0.9970\n",
      "\n",
      "Epoch 00010: saving model to ./Model_2/2_PCA_QFC_saved-model-10.hdf5\n"
     ]
    }
   ],
   "source": [
    "H = model.fit(X_train, Y_train, epochs=10, batch_size=32, initial_epoch=0,\n",
    "              validation_data=(X_test, Y_test), verbose=1,\n",
    "              callbacks=[checkpoint])"
   ]
  },
  {
   "cell_type": "code",
   "execution_count": 49,
   "metadata": {},
   "outputs": [
    {
     "data": {
      "text/plain": [
       "[<tf.Variable 'model_2/keras_layer_2/params:0' shape=(2, 3, 6) dtype=float32, numpy=\n",
       " array([[[ 0.4861001 , -0.29563266,  1.3622421 , -0.07808039,\n",
       "          -0.01584488, -0.15925643],\n",
       "         [ 0.8597075 , -1.5760226 , -0.12491941,  0.55871135,\n",
       "           1.1672243 , -0.23676257],\n",
       "         [ 1.7697967 , -0.94233954, -1.2802771 , -0.71186006,\n",
       "          -1.1973429 ,  0.44267806]],\n",
       " \n",
       "        [[-0.31692848, -0.66605926,  0.5754841 ,  0.6400159 ,\n",
       "          -0.39426377,  0.32879305],\n",
       "         [-0.08040178, -1.1296569 ,  0.57614845,  0.35616937,\n",
       "          -0.10894242,  0.04845453],\n",
       "         [ 0.20466903, -1.0918332 , -0.34157372, -0.05871408,\n",
       "          -0.08730429,  0.35754687]]], dtype=float32)>,\n",
       " <tf.Variable 'Variable:0' shape=(1, 2) dtype=float32, numpy=array([[1.0282205, 1.0299535]], dtype=float32)>]"
      ]
     },
     "execution_count": 49,
     "metadata": {},
     "output_type": "execute_result"
    }
   ],
   "source": [
    "# another run to get 10 different set of weights\n",
    "# 3 layer, 6 components\n",
    "model.weights"
   ]
  },
  {
   "cell_type": "code",
   "execution_count": 48,
   "metadata": {},
   "outputs": [
    {
     "data": {
      "text/plain": [
       "{'loss': [0.24355792999267578,\n",
       "  0.04015307128429413,\n",
       "  0.019137930124998093,\n",
       "  0.01356662716716528,\n",
       "  0.009500443004071712,\n",
       "  0.008487877435982227,\n",
       "  0.0066742743365466595,\n",
       "  0.006672514136880636,\n",
       "  0.007144154515117407,\n",
       "  0.005894259084016085],\n",
       " 'accuracy': [0.7475000023841858,\n",
       "  0.9925000071525574,\n",
       "  0.9850000143051147,\n",
       "  0.9925000071525574,\n",
       "  0.9925000071525574,\n",
       "  0.9925000071525574,\n",
       "  0.9950000047683716,\n",
       "  0.9950000047683716,\n",
       "  0.9975000023841858,\n",
       "  0.9950000047683716],\n",
       " 'val_loss': [0.025279445573687553,\n",
       "  0.02726658619940281,\n",
       "  0.012940282933413982,\n",
       "  0.012094677425920963,\n",
       "  0.007585875224322081,\n",
       "  0.006866679526865482,\n",
       "  0.005473603494465351,\n",
       "  0.006093261297792196,\n",
       "  0.005328791216015816,\n",
       "  0.00398214953020215],\n",
       " 'val_accuracy': [0.9890000224113464,\n",
       "  0.9929999709129333,\n",
       "  0.9950000047683716,\n",
       "  0.9940000176429749,\n",
       "  0.9940000176429749,\n",
       "  0.9940000176429749,\n",
       "  0.9950000047683716,\n",
       "  0.9929999709129333,\n",
       "  0.9959999918937683,\n",
       "  0.996999979019165]}"
      ]
     },
     "execution_count": 48,
     "metadata": {},
     "output_type": "execute_result"
    }
   ],
   "source": [
    "# another run to get 10 different set of weights\n",
    "# 3 layer, 6 components\n",
    "H.history"
   ]
  },
  {
   "cell_type": "code",
   "execution_count": 121,
   "metadata": {},
   "outputs": [
    {
     "data": {
      "text/plain": [
       "{'loss': [0.2653992176055908,\n",
       "  0.032185155898332596,\n",
       "  0.016427958384156227,\n",
       "  0.011573991738259792,\n",
       "  0.010216912254691124,\n",
       "  0.009572828188538551,\n",
       "  0.009385867975652218,\n",
       "  0.00946095958352089,\n",
       "  0.011590284295380116,\n",
       "  0.011278847232460976],\n",
       " 'accuracy': [0.7174999713897705,\n",
       "  0.987500011920929,\n",
       "  0.9900000095367432,\n",
       "  0.9850000143051147,\n",
       "  0.9900000095367432,\n",
       "  0.987500011920929,\n",
       "  0.9925000071525574,\n",
       "  0.9925000071525574,\n",
       "  0.9900000095367432,\n",
       "  0.9900000095367432],\n",
       " 'val_loss': [0.02329958975315094,\n",
       "  0.021908411756157875,\n",
       "  0.014608238823711872,\n",
       "  0.008718524128198624,\n",
       "  0.008151949383318424,\n",
       "  0.010636551305651665,\n",
       "  0.008373355492949486,\n",
       "  0.008148560300469398,\n",
       "  0.010557876899838448,\n",
       "  0.010477222502231598],\n",
       " 'val_accuracy': [0.9909999966621399,\n",
       "  0.9929999709129333,\n",
       "  0.9929999709129333,\n",
       "  0.9909999966621399,\n",
       "  0.9909999966621399,\n",
       "  0.9940000176429749,\n",
       "  0.9909999966621399,\n",
       "  0.9929999709129333,\n",
       "  0.9929999709129333,\n",
       "  0.9940000176429749]}"
      ]
     },
     "execution_count": 121,
     "metadata": {},
     "output_type": "execute_result"
    }
   ],
   "source": [
    "# 3 layer, 3 components\n",
    "H.history"
   ]
  },
  {
   "cell_type": "code",
   "execution_count": 116,
   "metadata": {},
   "outputs": [
    {
     "data": {
      "text/plain": [
       "{'loss': [0.34530937671661377,\n",
       "  0.1492106169462204,\n",
       "  0.01801079884171486,\n",
       "  0.015847105532884598,\n",
       "  0.013710307888686657,\n",
       "  0.010978358797729015,\n",
       "  0.01054929569363594,\n",
       "  0.011004014872014523,\n",
       "  0.01058866735547781,\n",
       "  0.009973516687750816],\n",
       " 'accuracy': [0.5174999833106995,\n",
       "  0.8849999904632568,\n",
       "  0.9850000143051147,\n",
       "  0.9825000166893005,\n",
       "  0.9850000143051147,\n",
       "  0.9850000143051147,\n",
       "  0.987500011920929,\n",
       "  0.987500011920929,\n",
       "  0.987500011920929,\n",
       "  0.987500011920929],\n",
       " 'val_loss': [0.2872988283634186,\n",
       "  0.024056771770119667,\n",
       "  0.01894226111471653,\n",
       "  0.011859523132443428,\n",
       "  0.009856450371444225,\n",
       "  0.009447874501347542,\n",
       "  0.008932934142649174,\n",
       "  0.00945410318672657,\n",
       "  0.009240193292498589,\n",
       "  0.008546365424990654],\n",
       " 'val_accuracy': [0.6259999871253967,\n",
       "  0.9919999837875366,\n",
       "  0.9909999966621399,\n",
       "  0.9890000224113464,\n",
       "  0.9909999966621399,\n",
       "  0.9909999966621399,\n",
       "  0.9909999966621399,\n",
       "  0.9919999837875366,\n",
       "  0.9909999966621399,\n",
       "  0.9909999966621399]}"
      ]
     },
     "execution_count": 116,
     "metadata": {},
     "output_type": "execute_result"
    }
   ],
   "source": [
    "# 2 layer, 3 components\n",
    "H.history"
   ]
  },
  {
   "cell_type": "code",
   "execution_count": 111,
   "metadata": {},
   "outputs": [
    {
     "data": {
      "text/plain": [
       "{'loss': [0.32687854766845703,\n",
       "  0.2570675015449524,\n",
       "  0.24734927713871002,\n",
       "  0.24412232637405396,\n",
       "  0.24293488264083862,\n",
       "  0.2441340833902359,\n",
       "  0.24543128907680511,\n",
       "  0.24256230890750885,\n",
       "  0.24118472635746002,\n",
       "  0.24456167221069336],\n",
       " 'accuracy': [0.5049999952316284,\n",
       "  0.5024999976158142,\n",
       "  0.675000011920929,\n",
       "  0.6575000286102295,\n",
       "  0.6424999833106995,\n",
       "  0.6924999952316284,\n",
       "  0.5224999785423279,\n",
       "  0.6449999809265137,\n",
       "  0.6175000071525574,\n",
       "  0.6850000023841858],\n",
       " 'val_loss': [0.2781103551387787,\n",
       "  0.2599923014640808,\n",
       "  0.2623898684978485,\n",
       "  0.2623702883720398,\n",
       "  0.25739529728889465,\n",
       "  0.2572997510433197,\n",
       "  0.26351115107536316,\n",
       "  0.2581028342247009,\n",
       "  0.2671962082386017,\n",
       "  0.2632584273815155],\n",
       " 'val_accuracy': [0.609000027179718,\n",
       "  0.6710000038146973,\n",
       "  0.6349999904632568,\n",
       "  0.6790000200271606,\n",
       "  0.6679999828338623,\n",
       "  0.6029999852180481,\n",
       "  0.6570000052452087,\n",
       "  0.6420000195503235,\n",
       "  0.640999972820282,\n",
       "  0.6340000033378601]}"
      ]
     },
     "execution_count": 111,
     "metadata": {},
     "output_type": "execute_result"
    }
   ],
   "source": [
    "# 1 layer, 3 components\n",
    "H.history"
   ]
  },
  {
   "cell_type": "code",
   "execution_count": 160,
   "metadata": {},
   "outputs": [
    {
     "data": {
      "text/plain": [
       "{'loss': [0.26560553908348083,\n",
       "  0.03672109916806221,\n",
       "  0.014476492069661617,\n",
       "  0.007918694987893105,\n",
       "  0.006789876148104668,\n",
       "  0.006094067823141813,\n",
       "  0.005757453851401806,\n",
       "  0.005648589227348566,\n",
       "  0.00519513851031661,\n",
       "  0.004957726690918207],\n",
       " 'accuracy': [0.7400000095367432,\n",
       "  0.9900000095367432,\n",
       "  0.9950000047683716,\n",
       "  0.9950000047683716,\n",
       "  0.9950000047683716,\n",
       "  0.9950000047683716,\n",
       "  0.9950000047683716,\n",
       "  0.9975000023841858,\n",
       "  0.9950000047683716,\n",
       "  0.9975000023841858],\n",
       " 'val_loss': [0.05836203321814537,\n",
       "  0.02489125356078148,\n",
       "  0.008462749421596527,\n",
       "  0.005271201953291893,\n",
       "  0.005083582364022732,\n",
       "  0.004700489342212677,\n",
       "  0.004531807266175747,\n",
       "  0.005487940739840269,\n",
       "  0.004196390509605408,\n",
       "  0.004818287678062916],\n",
       " 'val_accuracy': [0.9319999814033508,\n",
       "  0.9919999837875366,\n",
       "  0.9959999918937683,\n",
       "  0.9950000047683716,\n",
       "  0.996999979019165,\n",
       "  0.996999979019165,\n",
       "  0.9950000047683716,\n",
       "  0.9959999918937683,\n",
       "  0.9959999918937683,\n",
       "  0.9959999918937683]}"
      ]
     },
     "execution_count": 160,
     "metadata": {},
     "output_type": "execute_result"
    }
   ],
   "source": [
    "# 3 layer, 6 components\n",
    "H.history"
   ]
  },
  {
   "cell_type": "code",
   "execution_count": 155,
   "metadata": {},
   "outputs": [
    {
     "data": {
      "text/plain": [
       "{'loss': [0.27909529209136963,\n",
       "  0.04303440451622009,\n",
       "  0.01859869249165058,\n",
       "  0.010360999032855034,\n",
       "  0.009893442504107952,\n",
       "  0.008000833913683891,\n",
       "  0.007708949968218803,\n",
       "  0.00836118496954441,\n",
       "  0.008275577798485756,\n",
       "  0.008281074464321136],\n",
       " 'accuracy': [0.7350000143051147,\n",
       "  0.9825000166893005,\n",
       "  0.9925000071525574,\n",
       "  0.9950000047683716,\n",
       "  0.9925000071525574,\n",
       "  0.9925000071525574,\n",
       "  0.9950000047683716,\n",
       "  0.9950000047683716,\n",
       "  0.9950000047683716,\n",
       "  0.9925000071525574],\n",
       " 'val_loss': [0.07420001924037933,\n",
       "  0.023662392050027847,\n",
       "  0.008617249317467213,\n",
       "  0.00962838251143694,\n",
       "  0.007722271606326103,\n",
       "  0.007377122528851032,\n",
       "  0.0067206150852143764,\n",
       "  0.007946223020553589,\n",
       "  0.006825500633567572,\n",
       "  0.007112652529031038],\n",
       " 'val_accuracy': [0.9509999752044678,\n",
       "  0.9890000224113464,\n",
       "  0.9940000176429749,\n",
       "  0.9900000095367432,\n",
       "  0.9929999709129333,\n",
       "  0.9950000047683716,\n",
       "  0.9940000176429749,\n",
       "  0.9929999709129333,\n",
       "  0.9950000047683716,\n",
       "  0.9940000176429749]}"
      ]
     },
     "execution_count": 155,
     "metadata": {},
     "output_type": "execute_result"
    }
   ],
   "source": [
    "# 2 layer, 6 components\n",
    "H.history"
   ]
  },
  {
   "cell_type": "code",
   "execution_count": 150,
   "metadata": {},
   "outputs": [
    {
     "data": {
      "text/plain": [
       "{'loss': [0.38320475816726685,\n",
       "  0.2603210210800171,\n",
       "  0.23898860812187195,\n",
       "  0.2146771401166916,\n",
       "  0.1632508635520935,\n",
       "  0.12522520124912262,\n",
       "  0.1069779023528099,\n",
       "  0.0982518196105957,\n",
       "  0.09773246943950653,\n",
       "  0.09601780772209167],\n",
       " 'accuracy': [0.5,\n",
       "  0.5074999928474426,\n",
       "  0.6825000047683716,\n",
       "  0.6575000286102295,\n",
       "  0.7850000262260437,\n",
       "  0.8550000190734863,\n",
       "  0.9175000190734863,\n",
       "  0.8974999785423279,\n",
       "  0.8799999952316284,\n",
       "  0.8799999952316284],\n",
       " 'val_loss': [0.27014783024787903,\n",
       "  0.2383209764957428,\n",
       "  0.22773484885692596,\n",
       "  0.1841668337583542,\n",
       "  0.13216471672058105,\n",
       "  0.11506880819797516,\n",
       "  0.09357540309429169,\n",
       "  0.08672566711902618,\n",
       "  0.08670210093259811,\n",
       "  0.0831218883395195],\n",
       " 'val_accuracy': [0.4050000011920929,\n",
       "  0.671999990940094,\n",
       "  0.6660000085830688,\n",
       "  0.7350000143051147,\n",
       "  0.8519999980926514,\n",
       "  0.9079999923706055,\n",
       "  0.9129999876022339,\n",
       "  0.9129999876022339,\n",
       "  0.8970000147819519,\n",
       "  0.9150000214576721]}"
      ]
     },
     "execution_count": 150,
     "metadata": {},
     "output_type": "execute_result"
    }
   ],
   "source": [
    "# 1 layer, 6 components\n",
    "H.history"
   ]
  },
  {
   "cell_type": "code",
   "execution_count": 161,
   "metadata": {},
   "outputs": [
    {
     "name": "stdout",
     "output_type": "stream",
     "text": [
      "Model: \"model_10\"\n",
      "_________________________________________________________________\n",
      "Layer (type)                 Output Shape              Param #   \n",
      "=================================================================\n",
      "Input_Layer (InputLayer)     [(None, 6)]               0         \n",
      "_________________________________________________________________\n",
      "keras_layer_10 (KerasLayer)  (None, 2)                 36        \n",
      "_________________________________________________________________\n",
      "class_weights_10 (class_weig (None, 2)                 2         \n",
      "=================================================================\n",
      "Total params: 38\n",
      "Trainable params: 38\n",
      "Non-trainable params: 0\n",
      "_________________________________________________________________\n"
     ]
    }
   ],
   "source": [
    "model.summary()"
   ]
  },
  {
   "cell_type": "code",
   "execution_count": 162,
   "metadata": {},
   "outputs": [
    {
     "data": {
      "text/plain": [
       "[<tf.Variable 'model_10/keras_layer_10/params:0' shape=(2, 3, 6) dtype=float32, numpy=\n",
       " array([[[-0.23825717, -0.6927138 ,  1.9275627 , -0.6338903 ,\n",
       "          -1.5635191 , -0.54419893],\n",
       "         [-1.7943736 ,  0.6555091 ,  0.7756721 , -0.52433693,\n",
       "           0.33494785,  0.5896128 ],\n",
       "         [-1.93925   ,  0.26347128, -1.0761861 ,  0.1370001 ,\n",
       "           0.7956914 ,  0.43674225]],\n",
       " \n",
       "        [[ 0.04991536,  0.4438185 ,  0.28958392,  0.17212974,\n",
       "          -0.5826888 ,  0.1689779 ],\n",
       "         [-0.05101966, -0.45951375, -0.7024131 , -0.51385176,\n",
       "          -1.2483467 , -0.46147949],\n",
       "         [-0.37164477, -0.980824  , -0.43812418, -0.7645581 ,\n",
       "          -0.8557718 , -0.01652514]]], dtype=float32)>,\n",
       " <tf.Variable 'Variable:0' shape=(1, 2) dtype=float32, numpy=array([[1.0457449, 1.0058646]], dtype=float32)>]"
      ]
     },
     "execution_count": 162,
     "metadata": {},
     "output_type": "execute_result"
    }
   ],
   "source": [
    "# 3 layer, 6 components\n",
    "model.weights"
   ]
  },
  {
   "cell_type": "code",
   "execution_count": 166,
   "metadata": {},
   "outputs": [
    {
     "data": {
      "text/plain": [
       "[<tf.Variable 'model_11/keras_layer_11/params:0' shape=(2, 3, 6) dtype=float32, numpy=\n",
       " array([[[-0.01116788, -0.24572456, -0.34748596,  0.12041545,\n",
       "          -0.26595542, -0.18240207],\n",
       "         [ 0.3004377 ,  0.5260234 ,  0.35336393,  0.19536716,\n",
       "           0.01010054, -0.40111852],\n",
       "         [ 0.5502764 , -0.18851322, -0.25431797, -0.24531147,\n",
       "           0.07113147, -0.37417513]],\n",
       " \n",
       "        [[-0.44977266,  0.34296083,  0.51045287, -0.2749984 ,\n",
       "           0.41424918, -0.4837346 ],\n",
       "         [ 0.10718679,  0.507282  ,  0.07516974, -0.4324274 ,\n",
       "           0.36671913,  0.3184935 ],\n",
       "         [ 0.49623525,  0.49480498,  0.4315616 ,  0.46681094,\n",
       "          -0.12224993, -0.14642656]]], dtype=float32)>,\n",
       " <tf.Variable 'Variable:0' shape=(1, 2) dtype=float32, numpy=array([[-0.04803438, -0.0187188 ]], dtype=float32)>]"
      ]
     },
     "execution_count": 166,
     "metadata": {},
     "output_type": "execute_result"
    }
   ],
   "source": [
    "# random weights\n",
    "model.weights"
   ]
  },
  {
   "cell_type": "code",
   "execution_count": 167,
   "metadata": {},
   "outputs": [
    {
     "data": {
      "text/plain": [
       "((2, 3, 6), (1, 2), (2, 3, 6))"
      ]
     },
     "execution_count": 167,
     "metadata": {},
     "output_type": "execute_result"
    }
   ],
   "source": [
    "QFC_weights = np.array([[[-0.23825717, -0.6927138 ,  1.9275627 , -0.6338903 ,\n",
    "          -1.5635191 , -0.54419893],\n",
    "         [-1.7943736 ,  0.6555091 ,  0.7756721 , -0.52433693,\n",
    "           0.33494785,  0.5896128 ],\n",
    "         [-1.93925   ,  0.26347128, -1.0761861 ,  0.1370001 ,\n",
    "           0.7956914 ,  0.43674225]],\n",
    " \n",
    "        [[ 0.04991536,  0.4438185 ,  0.28958392,  0.17212974,\n",
    "          -0.5826888 ,  0.1689779 ],\n",
    "         [-0.05101966, -0.45951375, -0.7024131 , -0.51385176,\n",
    "          -1.2483467 , -0.46147949],\n",
    "         [-0.37164477, -0.980824  , -0.43812418, -0.7645581 ,\n",
    "          -0.8557718 , -0.01652514]]])\n",
    "\n",
    "alpha_weights = np.array([[1.0457449, 1.0058646]])\n",
    "\n",
    "\n",
    "random_weights = np.array([[[-0.01116788, -0.24572456, -0.34748596,  0.12041545,\n",
    "          -0.26595542, -0.18240207],\n",
    "         [ 0.3004377 ,  0.5260234 ,  0.35336393,  0.19536716,\n",
    "           0.01010054, -0.40111852],\n",
    "         [ 0.5502764 , -0.18851322, -0.25431797, -0.24531147,\n",
    "           0.07113147, -0.37417513]],\n",
    " \n",
    "        [[-0.44977266,  0.34296083,  0.51045287, -0.2749984 ,\n",
    "           0.41424918, -0.4837346 ],\n",
    "         [ 0.10718679,  0.507282  ,  0.07516974, -0.4324274 ,\n",
    "           0.36671913,  0.3184935 ],\n",
    "         [ 0.49623525,  0.49480498,  0.4315616 ,  0.46681094,\n",
    "          -0.12224993, -0.14642656]]])\n",
    "\n",
    "QFC_weights.shape, alpha_weights.shape, random_weights.shape"
   ]
  },
  {
   "cell_type": "markdown",
   "metadata": {},
   "source": [
    "# Exploring the results"
   ]
  },
  {
   "cell_type": "code",
   "execution_count": 168,
   "metadata": {},
   "outputs": [],
   "source": [
    "# sanity check\n",
    "\n",
    "pred = []\n",
    "random_pred = []\n",
    "for i in range(len(X_test)):\n",
    "    pred += [np.argmax(q_fc(QFC_weights, X_test[i]).numpy())]\n",
    "    random_pred += [np.argmax(q_fc(random_weights, X_test[i]).numpy())]"
   ]
  },
  {
   "cell_type": "code",
   "execution_count": 171,
   "metadata": {},
   "outputs": [],
   "source": [
    "n_qubits = 1\n",
    "dev_state = qml.device(\"default.qubit\", wires=n_qubits)\n",
    "\n",
    "\n",
    "@qml.qnode(dev_state)\n",
    "def q_fc_state(params, inputs):\n",
    "    \"\"\"A variational quantum circuit representing the DRC.\n",
    "\n",
    "    Args:\n",
    "        params (array[float]): array of parameters\n",
    "        inputs = [x, y]\n",
    "        x (array[float]): 1-d input vector\n",
    "        y (array[float]): single output state density matrix\n",
    "\n",
    "    Returns:\n",
    "        float: fidelity between output state and input\n",
    "    \"\"\"\n",
    "    \n",
    "    # layer iteration\n",
    "    for l in range(len(params[0])):\n",
    "        # qubit iteration\n",
    "        for q in range(n_qubits):\n",
    "            # gate iteration\n",
    "            for g in range(int(len(inputs)/3)):\n",
    "                qml.Rot(*(params[0][l][3*g:3*(g+1)] * inputs[3*g:3*(g+1)] + params[1][l][3*g:3*(g+1)]), wires=q)\n",
    "    \n",
    "    return qml.expval(qml.Hermitian(dm_labels[0], wires=[0]))\n"
   ]
  },
  {
   "cell_type": "code",
   "execution_count": 172,
   "metadata": {},
   "outputs": [
    {
     "data": {
      "text/plain": [
       "tensor(0.97548889, requires_grad=True)"
      ]
     },
     "execution_count": 172,
     "metadata": {},
     "output_type": "execute_result"
    }
   ],
   "source": [
    "q_fc_state(QFC_weights, X_test[0])"
   ]
  },
  {
   "cell_type": "code",
   "execution_count": 173,
   "metadata": {},
   "outputs": [
    {
     "data": {
      "text/plain": [
       "array([ 0.15587203-0.01466339j, -0.9172014 +0.3663748j ])"
      ]
     },
     "execution_count": 173,
     "metadata": {},
     "output_type": "execute_result"
    }
   ],
   "source": [
    "dev_state._state"
   ]
  },
  {
   "cell_type": "code",
   "execution_count": 174,
   "metadata": {},
   "outputs": [],
   "source": [
    "train_state = np.zeros((len(X_train), 2), dtype=np.complex_)\n",
    "test_state = np.zeros((len(X_test), 2), dtype=np.complex_)\n",
    "\n",
    "for i in range(len(train_state)):\n",
    "    \n",
    "    q_fc_state(QFC_weights, X_train[i])\n",
    "    temp = np.flip(dev_state._state)\n",
    "    train_state[i, :] = temp\n",
    "\n",
    "for i in range(len(test_state)):\n",
    "    \n",
    "    q_fc_state(QFC_weights, X_test[i])\n",
    "    temp = np.flip(dev_state._state)\n",
    "    test_state[i, :] = temp"
   ]
  },
  {
   "cell_type": "code",
   "execution_count": 175,
   "metadata": {},
   "outputs": [
    {
     "data": {
      "text/plain": [
       "tensor(0.9418614+0.j, requires_grad=True)"
      ]
     },
     "execution_count": 175,
     "metadata": {},
     "output_type": "execute_result"
    }
   ],
   "source": [
    "np.conj(train_state[150]) @ dm_labels[0] @ train_state[150]"
   ]
  },
  {
   "cell_type": "code",
   "execution_count": 176,
   "metadata": {},
   "outputs": [
    {
     "data": {
      "text/plain": [
       "tensor(1.+0.j, requires_grad=True)"
      ]
     },
     "execution_count": 176,
     "metadata": {},
     "output_type": "execute_result"
    }
   ],
   "source": [
    "train_state[0] @ np.conj(train_state[0])"
   ]
  },
  {
   "cell_type": "code",
   "execution_count": 177,
   "metadata": {},
   "outputs": [
    {
     "data": {
      "text/plain": [
       "tensor(0.97548889+0.j, requires_grad=True)"
      ]
     },
     "execution_count": 177,
     "metadata": {},
     "output_type": "execute_result"
    }
   ],
   "source": [
    "np.conj(test_state[0]) @ dm_labels[0] @ test_state[0]"
   ]
  },
  {
   "cell_type": "code",
   "execution_count": 178,
   "metadata": {},
   "outputs": [],
   "source": [
    "np.savetxt('./2_PCA_QFC-State_Train.txt', train_state)\n",
    "np.savetxt('./2_PCA_QFC-State_Test.txt', test_state)"
   ]
  },
  {
   "cell_type": "code",
   "execution_count": 179,
   "metadata": {},
   "outputs": [],
   "source": [
    "train_state = np.zeros((len(X_train), 2), dtype=np.complex_)\n",
    "test_state = np.zeros((len(X_test), 2), dtype=np.complex_)\n",
    "\n",
    "for i in range(len(train_state)):\n",
    "    \n",
    "    q_fc_state(random_weights, X_train[i])\n",
    "    temp = np.flip(dev_state._state)\n",
    "    train_state[i, :] = temp\n",
    "\n",
    "for i in range(len(test_state)):\n",
    "    \n",
    "    q_fc_state(random_weights, X_test[i])\n",
    "    temp = np.flip(dev_state._state)\n",
    "    test_state[i, :] = temp"
   ]
  },
  {
   "cell_type": "code",
   "execution_count": 180,
   "metadata": {},
   "outputs": [
    {
     "data": {
      "text/plain": [
       "tensor(0.33306896+0.j, requires_grad=True)"
      ]
     },
     "execution_count": 180,
     "metadata": {},
     "output_type": "execute_result"
    }
   ],
   "source": [
    "np.conj(train_state[0]) @ dm_labels[0] @ train_state[0]"
   ]
  },
  {
   "cell_type": "code",
   "execution_count": 181,
   "metadata": {},
   "outputs": [
    {
     "data": {
      "text/plain": [
       "tensor(1.+0.j, requires_grad=True)"
      ]
     },
     "execution_count": 181,
     "metadata": {},
     "output_type": "execute_result"
    }
   ],
   "source": [
    "train_state[0] @ np.conj(train_state[0])"
   ]
  },
  {
   "cell_type": "code",
   "execution_count": 182,
   "metadata": {},
   "outputs": [],
   "source": [
    "np.savetxt('./2_PCA_QFC-RandomState_Train.txt', train_state)\n",
    "np.savetxt('./2_PCA_QFC-RandomState_Test.txt', test_state)"
   ]
  },
  {
   "cell_type": "markdown",
   "metadata": {},
   "source": [
    "## Constructing quantum state with 10 set of weights"
   ]
  },
  {
   "cell_type": "code",
   "execution_count": 67,
   "metadata": {},
   "outputs": [],
   "source": [
    "random_weights = np.array(model.get_weights()[0], dtype=float)"
   ]
  },
  {
   "cell_type": "code",
   "execution_count": 72,
   "metadata": {},
   "outputs": [
    {
     "data": {
      "text/plain": [
       "11"
      ]
     },
     "execution_count": 72,
     "metadata": {},
     "output_type": "execute_result"
    }
   ],
   "source": [
    "QFC_weights_list = [random_weights]\n",
    "\n",
    "for i in range(10):\n",
    "    if i == 9:\n",
    "        model.load_weights('./Model_2/2_PCA_QFC_saved-model-' + str(i+1) + '.hdf5')\n",
    "    else:\n",
    "        model.load_weights('./Model_2/2_PCA_QFC_saved-model-0' + str(i+1) + '.hdf5')\n",
    "    \n",
    "    QFC_weights_list += [np.array(model.get_weights()[0], dtype=float)]\n",
    "    \n",
    "len(QFC_weights_list)"
   ]
  },
  {
   "cell_type": "code",
   "execution_count": 73,
   "metadata": {},
   "outputs": [],
   "source": [
    "n_qubits = 1\n",
    "dev_state = qml.device(\"default.qubit\", wires=n_qubits)\n",
    "\n",
    "\n",
    "@qml.qnode(dev_state)\n",
    "def q_fc_state(params, inputs):\n",
    "    \"\"\"A variational quantum circuit representing the DRC.\n",
    "\n",
    "    Args:\n",
    "        params (array[float]): array of parameters\n",
    "        inputs = [x, y]\n",
    "        x (array[float]): 1-d input vector\n",
    "        y (array[float]): single output state density matrix\n",
    "\n",
    "    Returns:\n",
    "        float: fidelity between output state and input\n",
    "    \"\"\"\n",
    "    \n",
    "    # layer iteration\n",
    "    for l in range(len(params[0])):\n",
    "        # qubit iteration\n",
    "        for q in range(n_qubits):\n",
    "            # gate iteration\n",
    "            for g in range(int(len(inputs)/3)):\n",
    "                qml.Rot(*(params[0][l][3*g:3*(g+1)] * inputs[3*g:3*(g+1)] + params[1][l][3*g:3*(g+1)]), wires=q)\n",
    "    \n",
    "    return qml.expval(qml.Hermitian(dm_labels[0], wires=[0]))\n"
   ]
  },
  {
   "cell_type": "code",
   "execution_count": 74,
   "metadata": {},
   "outputs": [
    {
     "data": {
      "text/plain": [
       "tensor(0.97753767, requires_grad=True)"
      ]
     },
     "execution_count": 74,
     "metadata": {},
     "output_type": "execute_result"
    }
   ],
   "source": [
    "q_fc_state(QFC_weights_list[0], X_test[0])"
   ]
  },
  {
   "cell_type": "code",
   "execution_count": 75,
   "metadata": {},
   "outputs": [
    {
     "name": "stdout",
     "output_type": "stream",
     "text": [
      "(400, 2) (1000, 2)\n",
      "(400, 2) (1000, 2)\n",
      "(400, 2) (1000, 2)\n",
      "(400, 2) (1000, 2)\n",
      "(400, 2) (1000, 2)\n",
      "(400, 2) (1000, 2)\n",
      "(400, 2) (1000, 2)\n",
      "(400, 2) (1000, 2)\n",
      "(400, 2) (1000, 2)\n",
      "(400, 2) (1000, 2)\n",
      "(400, 2) (1000, 2)\n"
     ]
    }
   ],
   "source": [
    "\n",
    "for k in range(10+1):\n",
    "\n",
    "    train_state = np.zeros((len(X_train), 2), dtype=np.complex_)\n",
    "    test_state = np.zeros((len(X_test), 2), dtype=np.complex_)\n",
    "\n",
    "    for i in range(len(train_state)):\n",
    "\n",
    "        q_fc_state(QFC_weights_list[k], X_train[i])\n",
    "        temp = np.flip(dev_state._state)\n",
    "        train_state[i, :] = temp\n",
    "\n",
    "    for i in range(len(test_state)):\n",
    "\n",
    "        q_fc_state(QFC_weights_list[k], X_test[i])\n",
    "        temp = np.flip(dev_state._state)\n",
    "        test_state[i, :] = temp\n",
    "        \n",
    "    print(train_state.shape, test_state.shape)  \n",
    "    np.savetxt('./Model_2/2_PCA_QFC-State_Train_Epoch=' + str(k) + '.txt', train_state)\n",
    "    np.savetxt('./Model_2/2_PCA_QFC-State_Test_Epoch=' + str(k) + '.txt', test_state)"
   ]
  },
  {
   "cell_type": "code",
   "execution_count": null,
   "metadata": {},
   "outputs": [],
   "source": []
  }
 ],
 "metadata": {
  "colab": {
   "authorship_tag": "ABX9TyNNN7AuWgekOgocJ/DE5q9Z",
   "collapsed_sections": [],
   "name": "DRC MNIST 2 Class.ipynb",
   "provenance": []
  },
  "kernelspec": {
   "display_name": "Python 3",
   "language": "python",
   "name": "python3"
  },
  "language_info": {
   "codemirror_mode": {
    "name": "ipython",
    "version": 3
   },
   "file_extension": ".py",
   "mimetype": "text/x-python",
   "name": "python",
   "nbconvert_exporter": "python",
   "pygments_lexer": "ipython3",
   "version": "3.7.4"
  }
 },
 "nbformat": 4,
 "nbformat_minor": 1
}
